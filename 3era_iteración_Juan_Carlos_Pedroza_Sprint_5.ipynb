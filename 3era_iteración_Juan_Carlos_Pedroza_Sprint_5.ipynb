{
 "cells": [
  {
   "cell_type": "markdown",
   "metadata": {
    "id": "4I4rAkZqnUsg"
   },
   "source": [
    "**¡Hola Juan Carlos!** 😊\n",
    "\n",
    "Mi nombre es **Alejandro Castellanos** y hoy tengo el placer de ser el revisor de tu proyecto.\n",
    "\n",
    "Voy a revisar todo tu código con detalle, buscando tanto los puntos fuertes como aquellos en los que podrías mejorar. Te dejaré comentarios a lo largo del notebook, destacando lo que has hecho bien y sugiriendo ajustes donde sea necesario. Si encuentro algún error, no te preocupes, te lo haré saber de forma clara y te daré información útil para que puedas corregirlo en la próxima. Si en algún punto tienes comentarios, siéntete libre de dejarlos también. Al final del notebook, te dejaré un comentario general con mi valoración del proyecto. **¡Mi objetivo es que sigas aprendiendo y mejorando con cada paso!**\n",
    "\n",
    "\n",
    "Encontrarás mis comentarios dentro de cajas verdes, amarillas o rojas, es muy importante que no muevas, modifiques o borres mis comentarios, con el fin de tener un seguimiento adecuado de tu proceso.:\n",
    "\n",
    "\n",
    "<div class=\"alert alert-block alert-success\">\n",
    "<b>Comentario del revisor</b> <a class=“tocSkip”></a>\n",
    "Si todo está perfecto.\n",
    "</div>\n",
    "\n",
    "<div class=\"alert alert-block alert-warning\">\n",
    "<b>Comentario del revisor</b> <a class=“tocSkip”></a>\n",
    "Si tu código está bien pero se puede mejorar o hay algún detalle que le hace falta.\n",
    "</div>\n",
    "\n",
    "<div class=\"alert alert-block alert-danger\">\n",
    "<b>Comentario del revisor</b> <a class=“tocSkip”></a>\n",
    "Si de pronto hace falta algo o existe algún problema con tu código o conclusiones.\n",
    "</div>\n",
    "\n",
    "Puedes responderme de esta forma:\n",
    "<div class=\"alert alert-block alert-info\">\n",
    "<b>Respuesta del estudiante</b> <a class=“tocSkip”></a>\n",
    "</div>"
   ]
  },
  {
   "cell_type": "markdown",
   "metadata": {
    "id": "3rYiDeEH0q0f"
   },
   "source": [
    "# ¿Cuál es la mejor tarifa?\n",
    "\n",
    "Trabajas como analista para el operador de telecomunicaciones Megaline. La empresa ofrece a sus clientes dos tarifas de prepago, Surf y Ultimate. El departamento comercial quiere saber cuál de las tarifas genera más ingresos para poder ajustar el presupuesto de publicidad.\n",
    "\n",
    "Vas a realizar un análisis preliminar de las tarifas basado en una selección de clientes relativamente pequeña. Tendrás los datos de 500 clientes de Megaline: quiénes son los clientes, de dónde son, qué tarifa usan, así como la cantidad de llamadas que hicieron y los mensajes de texto que enviaron en 2018. Tu trabajo es analizar el comportamiento de los clientes y determinar qué tarifa de prepago genera más ingresos."
   ]
  },
  {
   "cell_type": "markdown",
   "metadata": {
    "id": "VNddPNRQ0q0w"
   },
   "source": [
    "[Te proporcionamos algunos comentarios para orientarte mientras completas este proyecto. Pero debes asegurarte de eliminar todos los comentarios entre corchetes antes de entregar tu proyecto.]\n",
    "\n",
    "[Antes de sumergirte en el análisis de datos, explica por tu propia cuenta el propósito del proyecto y las acciones que planeas realizar.]\n",
    "\n",
    "[Ten en cuenta que estudiar, modificar y analizar datos es un proceso iterativo. Es normal volver a los pasos anteriores y corregirlos/ampliarlos para permitir nuevos pasos.]"
   ]
  },
  {
   "cell_type": "markdown",
   "metadata": {
    "id": "MQi4IPy70q0y"
   },
   "source": [
    "## Inicialización"
   ]
  },
  {
   "cell_type": "code",
   "execution_count": 21,
   "metadata": {
    "colab": {
     "base_uri": "https://localhost:8080/"
    },
    "id": "MtYIuBxu0q0z",
    "outputId": "13e3d6e5-9a72-4361-d265-98fb3aa929d3"
   },
   "outputs": [],
   "source": [
    "# Cargo las librerías que me van a servir a partir de ahora.\n",
    "import pandas as pd\n",
    "import numpy as np\n",
    "from scipy import stats as st\n",
    "\n"
   ]
  },
  {
   "cell_type": "markdown",
   "metadata": {
    "id": "4ysWWC5i0q00"
   },
   "source": [
    "## Cargar datos"
   ]
  },
  {
   "cell_type": "code",
   "execution_count": 22,
   "metadata": {
    "id": "djvwPVbrvSQN"
   },
   "outputs": [],
   "source": [
    "df_users = pd.read_csv('/datasets/megaline_users.csv')\n",
    "df_calls = pd.read_csv('/datasets/megaline_calls.csv')\n",
    "df_messages = pd.read_csv('/datasets/megaline_messages.csv')\n",
    "df_internet = pd.read_csv('/datasets/megaline_internet.csv')\n",
    "df_plans = pd.read_csv('/datasets/megaline_plans.csv')\n"
   ]
  },
  {
   "cell_type": "markdown",
   "metadata": {
    "id": "ODF3yO2UnUsl"
   },
   "source": [
    "<div class=\"alert alert-block alert-success\">\n",
    "<b>Comentario del revisor (1ra Iteración)</b> <a class=“tocSkip”></a>\n",
    "\n",
    "Buen trabajo importando las liberías necesarias y los datasets del proyecto.\n",
    "    \n",
    "    \n",
    "</div>"
   ]
  },
  {
   "cell_type": "markdown",
   "metadata": {
    "id": "69qqoJ3r0q01"
   },
   "source": [
    "## Preparar los datos"
   ]
  },
  {
   "cell_type": "markdown",
   "metadata": {
    "id": "JgecfblZBNo9"
   },
   "source": [
    "Exploro los datos de los datasets uno por uno para comprender qué valores puedo encontrar en cada uno y comenzar a corregir errores que podrían afectar o dificultar el análisis."
   ]
  },
  {
   "cell_type": "markdown",
   "metadata": {
    "id": "ohBhimvH0q01"
   },
   "source": [
    "## Tarifas / Planes"
   ]
  },
  {
   "cell_type": "code",
   "execution_count": 23,
   "metadata": {
    "colab": {
     "base_uri": "https://localhost:8080/",
     "height": 380
    },
    "id": "GptqP3Q40q02",
    "outputId": "2987926a-132f-42e6-ae2b-c79204072e42"
   },
   "outputs": [
    {
     "name": "stdout",
     "output_type": "stream",
     "text": [
      "<class 'pandas.core.frame.DataFrame'>\n",
      "RangeIndex: 2 entries, 0 to 1\n",
      "Data columns (total 8 columns):\n",
      " #   Column                 Non-Null Count  Dtype  \n",
      "---  ------                 --------------  -----  \n",
      " 0   messages_included      2 non-null      int64  \n",
      " 1   mb_per_month_included  2 non-null      int64  \n",
      " 2   minutes_included       2 non-null      int64  \n",
      " 3   usd_monthly_pay        2 non-null      int64  \n",
      " 4   usd_per_gb             2 non-null      int64  \n",
      " 5   usd_per_message        2 non-null      float64\n",
      " 6   usd_per_minute         2 non-null      float64\n",
      " 7   plan_name              2 non-null      object \n",
      "dtypes: float64(2), int64(5), object(1)\n",
      "memory usage: 256.0+ bytes\n"
     ]
    },
    {
     "data": {
      "text/html": [
       "<div>\n",
       "<style scoped>\n",
       "    .dataframe tbody tr th:only-of-type {\n",
       "        vertical-align: middle;\n",
       "    }\n",
       "\n",
       "    .dataframe tbody tr th {\n",
       "        vertical-align: top;\n",
       "    }\n",
       "\n",
       "    .dataframe thead th {\n",
       "        text-align: right;\n",
       "    }\n",
       "</style>\n",
       "<table border=\"1\" class=\"dataframe\">\n",
       "  <thead>\n",
       "    <tr style=\"text-align: right;\">\n",
       "      <th></th>\n",
       "      <th>messages_included</th>\n",
       "      <th>mb_per_month_included</th>\n",
       "      <th>minutes_included</th>\n",
       "      <th>usd_monthly_pay</th>\n",
       "      <th>usd_per_gb</th>\n",
       "      <th>usd_per_message</th>\n",
       "      <th>usd_per_minute</th>\n",
       "      <th>plan_name</th>\n",
       "    </tr>\n",
       "  </thead>\n",
       "  <tbody>\n",
       "    <tr>\n",
       "      <th>0</th>\n",
       "      <td>50</td>\n",
       "      <td>15360</td>\n",
       "      <td>500</td>\n",
       "      <td>20</td>\n",
       "      <td>10</td>\n",
       "      <td>0.03</td>\n",
       "      <td>0.03</td>\n",
       "      <td>surf</td>\n",
       "    </tr>\n",
       "    <tr>\n",
       "      <th>1</th>\n",
       "      <td>1000</td>\n",
       "      <td>30720</td>\n",
       "      <td>3000</td>\n",
       "      <td>70</td>\n",
       "      <td>7</td>\n",
       "      <td>0.01</td>\n",
       "      <td>0.01</td>\n",
       "      <td>ultimate</td>\n",
       "    </tr>\n",
       "  </tbody>\n",
       "</table>\n",
       "</div>"
      ],
      "text/plain": [
       "   messages_included  mb_per_month_included  minutes_included  \\\n",
       "0                 50                  15360               500   \n",
       "1               1000                  30720              3000   \n",
       "\n",
       "   usd_monthly_pay  usd_per_gb  usd_per_message  usd_per_minute plan_name  \n",
       "0               20          10             0.03            0.03      surf  \n",
       "1               70           7             0.01            0.01  ultimate  "
      ]
     },
     "execution_count": 23,
     "metadata": {},
     "output_type": "execute_result"
    }
   ],
   "source": [
    "# Imprimo la información general/resumida sobre el DataFrame de las tarifas.\n",
    "df_plans.info()\n",
    "\n",
    "# Imprimo una muestra de los datos para las tarifas.\n",
    "df_plans.head()"
   ]
  },
  {
   "cell_type": "markdown",
   "metadata": {
    "id": "bIi8StZI0q03"
   },
   "source": [
    "\n",
    "El dataset es tan pequeño que no vale la pena buscar valores perdidos o duplicados, y los tipos de las columnas me parecen correctos. Sin embargo voy a cambio el índice por los nombres de los planes Surf y Ultimate, y a gener una columna nueva donde se muestren los GB que incluye cada plan, después organizaré las columnas en un orden que me parece más adecuado."
   ]
  },
  {
   "cell_type": "code",
   "execution_count": 24,
   "metadata": {
    "colab": {
     "base_uri": "https://localhost:8080/",
     "height": 145
    },
    "id": "Y7SVmjGn0q03",
    "outputId": "8dd90250-1e18-4f8a-bd23-02d7f01a9407"
   },
   "outputs": [
    {
     "data": {
      "text/html": [
       "<div>\n",
       "<style scoped>\n",
       "    .dataframe tbody tr th:only-of-type {\n",
       "        vertical-align: middle;\n",
       "    }\n",
       "\n",
       "    .dataframe tbody tr th {\n",
       "        vertical-align: top;\n",
       "    }\n",
       "\n",
       "    .dataframe thead th {\n",
       "        text-align: right;\n",
       "    }\n",
       "</style>\n",
       "<table border=\"1\" class=\"dataframe\">\n",
       "  <thead>\n",
       "    <tr style=\"text-align: right;\">\n",
       "      <th></th>\n",
       "      <th>plan</th>\n",
       "      <th>usd_monthly_pay</th>\n",
       "      <th>gb_per_month_included</th>\n",
       "      <th>mb_per_month_included</th>\n",
       "      <th>minutes_included</th>\n",
       "      <th>messages_included</th>\n",
       "      <th>usd_per_gb</th>\n",
       "      <th>usd_per_minute</th>\n",
       "      <th>usd_per_message</th>\n",
       "    </tr>\n",
       "  </thead>\n",
       "  <tbody>\n",
       "    <tr>\n",
       "      <th>0</th>\n",
       "      <td>surf</td>\n",
       "      <td>20</td>\n",
       "      <td>15.0</td>\n",
       "      <td>15360</td>\n",
       "      <td>500</td>\n",
       "      <td>50</td>\n",
       "      <td>10</td>\n",
       "      <td>0.03</td>\n",
       "      <td>0.03</td>\n",
       "    </tr>\n",
       "    <tr>\n",
       "      <th>1</th>\n",
       "      <td>ultimate</td>\n",
       "      <td>70</td>\n",
       "      <td>30.0</td>\n",
       "      <td>30720</td>\n",
       "      <td>3000</td>\n",
       "      <td>1000</td>\n",
       "      <td>7</td>\n",
       "      <td>0.01</td>\n",
       "      <td>0.01</td>\n",
       "    </tr>\n",
       "  </tbody>\n",
       "</table>\n",
       "</div>"
      ],
      "text/plain": [
       "       plan  usd_monthly_pay  gb_per_month_included  mb_per_month_included  \\\n",
       "0      surf               20                   15.0                  15360   \n",
       "1  ultimate               70                   30.0                  30720   \n",
       "\n",
       "   minutes_included  messages_included  usd_per_gb  usd_per_minute  \\\n",
       "0               500                 50          10            0.03   \n",
       "1              3000               1000           7            0.01   \n",
       "\n",
       "   usd_per_message  \n",
       "0             0.03  \n",
       "1             0.01  "
      ]
     },
     "execution_count": 24,
     "metadata": {},
     "output_type": "execute_result"
    }
   ],
   "source": [
    "# Genero una columna con los nombres de los planes:\n",
    "plan = [\"surf\", \"ultimate\"]\n",
    "df_plans['plan'] = plan\n",
    "\n",
    "#Genero una columna nueva donde se muestre la cantidad de GB que incluye cada plan.\n",
    "df_plans['gb_per_month_included'] = df_plans['mb_per_month_included'] / 1024\n",
    "\n",
    "#Reordeno las columnas para que sean más comprensibles.\n",
    "columns_order = ['plan', 'usd_monthly_pay', 'gb_per_month_included', 'mb_per_month_included', 'minutes_included',\n",
    "                 'messages_included', 'usd_per_gb', 'usd_per_minute', 'usd_per_message']\n",
    "df_plans = df_plans[columns_order]\n",
    "df_plans"
   ]
  },
  {
   "cell_type": "markdown",
   "metadata": {
    "id": "dqCerxOlnUsm"
   },
   "source": [
    "<div class=\"alert alert-block alert-success\">\n",
    "<b>Comentario del revisor (1ra Iteración)</b> <a class=“tocSkip”></a>\n",
    "    \n",
    "Excelente Juan Carlos.\n",
    "\n",
    "</div>"
   ]
  },
  {
   "cell_type": "markdown",
   "metadata": {
    "id": "1n2X6WXf0q04"
   },
   "source": [
    "## Usuarios/as"
   ]
  },
  {
   "cell_type": "code",
   "execution_count": 25,
   "metadata": {
    "colab": {
     "base_uri": "https://localhost:8080/",
     "height": 474
    },
    "id": "2NgjWFqx0q05",
    "outputId": "1570f842-ec3b-43b0-8342-068868212832"
   },
   "outputs": [
    {
     "name": "stdout",
     "output_type": "stream",
     "text": [
      "<class 'pandas.core.frame.DataFrame'>\n",
      "RangeIndex: 500 entries, 0 to 499\n",
      "Data columns (total 8 columns):\n",
      " #   Column      Non-Null Count  Dtype \n",
      "---  ------      --------------  ----- \n",
      " 0   user_id     500 non-null    int64 \n",
      " 1   first_name  500 non-null    object\n",
      " 2   last_name   500 non-null    object\n",
      " 3   age         500 non-null    int64 \n",
      " 4   city        500 non-null    object\n",
      " 5   reg_date    500 non-null    object\n",
      " 6   plan        500 non-null    object\n",
      " 7   churn_date  34 non-null     object\n",
      "dtypes: int64(2), object(6)\n",
      "memory usage: 31.4+ KB\n"
     ]
    },
    {
     "data": {
      "text/html": [
       "<div>\n",
       "<style scoped>\n",
       "    .dataframe tbody tr th:only-of-type {\n",
       "        vertical-align: middle;\n",
       "    }\n",
       "\n",
       "    .dataframe tbody tr th {\n",
       "        vertical-align: top;\n",
       "    }\n",
       "\n",
       "    .dataframe thead th {\n",
       "        text-align: right;\n",
       "    }\n",
       "</style>\n",
       "<table border=\"1\" class=\"dataframe\">\n",
       "  <thead>\n",
       "    <tr style=\"text-align: right;\">\n",
       "      <th></th>\n",
       "      <th>user_id</th>\n",
       "      <th>first_name</th>\n",
       "      <th>last_name</th>\n",
       "      <th>age</th>\n",
       "      <th>city</th>\n",
       "      <th>reg_date</th>\n",
       "      <th>plan</th>\n",
       "      <th>churn_date</th>\n",
       "    </tr>\n",
       "  </thead>\n",
       "  <tbody>\n",
       "    <tr>\n",
       "      <th>178</th>\n",
       "      <td>1178</td>\n",
       "      <td>Charlsie</td>\n",
       "      <td>Reid</td>\n",
       "      <td>53</td>\n",
       "      <td>Cincinnati, OH-KY-IN MSA</td>\n",
       "      <td>2018-10-05</td>\n",
       "      <td>surf</td>\n",
       "      <td>NaN</td>\n",
       "    </tr>\n",
       "    <tr>\n",
       "      <th>10</th>\n",
       "      <td>1010</td>\n",
       "      <td>Wilber</td>\n",
       "      <td>Blair</td>\n",
       "      <td>52</td>\n",
       "      <td>Dallas-Fort Worth-Arlington, TX MSA</td>\n",
       "      <td>2018-03-09</td>\n",
       "      <td>surf</td>\n",
       "      <td>NaN</td>\n",
       "    </tr>\n",
       "    <tr>\n",
       "      <th>148</th>\n",
       "      <td>1148</td>\n",
       "      <td>Dwana</td>\n",
       "      <td>Moore</td>\n",
       "      <td>67</td>\n",
       "      <td>Columbia, SC MSA</td>\n",
       "      <td>2018-11-04</td>\n",
       "      <td>surf</td>\n",
       "      <td>NaN</td>\n",
       "    </tr>\n",
       "    <tr>\n",
       "      <th>255</th>\n",
       "      <td>1255</td>\n",
       "      <td>Kennith</td>\n",
       "      <td>Rowland</td>\n",
       "      <td>22</td>\n",
       "      <td>Oklahoma City, OK MSA</td>\n",
       "      <td>2018-08-01</td>\n",
       "      <td>ultimate</td>\n",
       "      <td>NaN</td>\n",
       "    </tr>\n",
       "    <tr>\n",
       "      <th>459</th>\n",
       "      <td>1459</td>\n",
       "      <td>Santos</td>\n",
       "      <td>Head</td>\n",
       "      <td>40</td>\n",
       "      <td>San Francisco-Oakland-Berkeley, CA MSA</td>\n",
       "      <td>2018-04-27</td>\n",
       "      <td>ultimate</td>\n",
       "      <td>NaN</td>\n",
       "    </tr>\n",
       "  </tbody>\n",
       "</table>\n",
       "</div>"
      ],
      "text/plain": [
       "     user_id first_name last_name  age  \\\n",
       "178     1178   Charlsie      Reid   53   \n",
       "10      1010     Wilber     Blair   52   \n",
       "148     1148      Dwana     Moore   67   \n",
       "255     1255    Kennith   Rowland   22   \n",
       "459     1459     Santos      Head   40   \n",
       "\n",
       "                                       city    reg_date      plan churn_date  \n",
       "178                Cincinnati, OH-KY-IN MSA  2018-10-05      surf        NaN  \n",
       "10      Dallas-Fort Worth-Arlington, TX MSA  2018-03-09      surf        NaN  \n",
       "148                        Columbia, SC MSA  2018-11-04      surf        NaN  \n",
       "255                   Oklahoma City, OK MSA  2018-08-01  ultimate        NaN  \n",
       "459  San Francisco-Oakland-Berkeley, CA MSA  2018-04-27  ultimate        NaN  "
      ]
     },
     "execution_count": 25,
     "metadata": {},
     "output_type": "execute_result"
    }
   ],
   "source": [
    "# Imprimo la información general/resumida sobre el DataFrame de usuarios.\n",
    "df_users.info()\n",
    "\n",
    "# Imprimo una muestra de datos para usuarios.\n",
    "df_users.sample(5)"
   ]
  },
  {
   "cell_type": "code",
   "execution_count": 26,
   "metadata": {
    "colab": {
     "base_uri": "https://localhost:8080/",
     "height": 206
    },
    "id": "UsvEbkhQNl5d",
    "outputId": "ece1eb05-3e72-4a78-e715-b688d7be6f5a"
   },
   "outputs": [
    {
     "data": {
      "text/html": [
       "<div>\n",
       "<style scoped>\n",
       "    .dataframe tbody tr th:only-of-type {\n",
       "        vertical-align: middle;\n",
       "    }\n",
       "\n",
       "    .dataframe tbody tr th {\n",
       "        vertical-align: top;\n",
       "    }\n",
       "\n",
       "    .dataframe thead th {\n",
       "        text-align: right;\n",
       "    }\n",
       "</style>\n",
       "<table border=\"1\" class=\"dataframe\">\n",
       "  <thead>\n",
       "    <tr style=\"text-align: right;\">\n",
       "      <th></th>\n",
       "      <th>user_id</th>\n",
       "      <th>first_name</th>\n",
       "      <th>last_name</th>\n",
       "      <th>age</th>\n",
       "      <th>city</th>\n",
       "      <th>reg_date</th>\n",
       "      <th>plan</th>\n",
       "      <th>churn_date</th>\n",
       "    </tr>\n",
       "  </thead>\n",
       "  <tbody>\n",
       "    <tr>\n",
       "      <th>127</th>\n",
       "      <td>1127</td>\n",
       "      <td>Marchelle</td>\n",
       "      <td>Brock</td>\n",
       "      <td>28</td>\n",
       "      <td>New York-Newark-Jersey City, NY-NJ-PA MSA</td>\n",
       "      <td>2018-06-23</td>\n",
       "      <td>surf</td>\n",
       "      <td>1900-01-01</td>\n",
       "    </tr>\n",
       "    <tr>\n",
       "      <th>489</th>\n",
       "      <td>1489</td>\n",
       "      <td>Londa</td>\n",
       "      <td>Jenkins</td>\n",
       "      <td>72</td>\n",
       "      <td>Detroit-Warren-Dearborn, MI MSA</td>\n",
       "      <td>2018-05-24</td>\n",
       "      <td>surf</td>\n",
       "      <td>1900-01-01</td>\n",
       "    </tr>\n",
       "    <tr>\n",
       "      <th>236</th>\n",
       "      <td>1236</td>\n",
       "      <td>Odell</td>\n",
       "      <td>Juarez</td>\n",
       "      <td>74</td>\n",
       "      <td>Minneapolis-St. Paul-Bloomington, MN-WI MSA</td>\n",
       "      <td>2018-04-04</td>\n",
       "      <td>ultimate</td>\n",
       "      <td>1900-01-01</td>\n",
       "    </tr>\n",
       "    <tr>\n",
       "      <th>9</th>\n",
       "      <td>1009</td>\n",
       "      <td>Gerry</td>\n",
       "      <td>Little</td>\n",
       "      <td>19</td>\n",
       "      <td>San Jose-Sunnyvale-Santa Clara, CA MSA</td>\n",
       "      <td>2018-04-22</td>\n",
       "      <td>surf</td>\n",
       "      <td>1900-01-01</td>\n",
       "    </tr>\n",
       "    <tr>\n",
       "      <th>400</th>\n",
       "      <td>1400</td>\n",
       "      <td>Kenton</td>\n",
       "      <td>Hickman</td>\n",
       "      <td>72</td>\n",
       "      <td>Riverside-San Bernardino-Ontario, CA MSA</td>\n",
       "      <td>2018-03-08</td>\n",
       "      <td>surf</td>\n",
       "      <td>1900-01-01</td>\n",
       "    </tr>\n",
       "  </tbody>\n",
       "</table>\n",
       "</div>"
      ],
      "text/plain": [
       "     user_id first_name last_name  age  \\\n",
       "127     1127  Marchelle     Brock   28   \n",
       "489     1489      Londa   Jenkins   72   \n",
       "236     1236      Odell    Juarez   74   \n",
       "9       1009      Gerry    Little   19   \n",
       "400     1400     Kenton   Hickman   72   \n",
       "\n",
       "                                            city   reg_date      plan  \\\n",
       "127    New York-Newark-Jersey City, NY-NJ-PA MSA 2018-06-23      surf   \n",
       "489              Detroit-Warren-Dearborn, MI MSA 2018-05-24      surf   \n",
       "236  Minneapolis-St. Paul-Bloomington, MN-WI MSA 2018-04-04  ultimate   \n",
       "9         San Jose-Sunnyvale-Santa Clara, CA MSA 2018-04-22      surf   \n",
       "400     Riverside-San Bernardino-Ontario, CA MSA 2018-03-08      surf   \n",
       "\n",
       "     churn_date  \n",
       "127  1900-01-01  \n",
       "489  1900-01-01  \n",
       "236  1900-01-01  \n",
       "9    1900-01-01  \n",
       "400  1900-01-01  "
      ]
     },
     "execution_count": 26,
     "metadata": {},
     "output_type": "execute_result"
    }
   ],
   "source": [
    "# Cambio Churn_date y reg_date al tipo fecha.\n",
    "df_users[\"churn_date\"] = pd.to_datetime(df_users[\"churn_date\"])\n",
    "df_users[\"reg_date\"] = pd.to_datetime(df_users[\"reg_date\"])\n",
    "\n",
    "# Elimino los valores nulos cambiándolos por la fecha 1900-01-01.\n",
    "df_users[\"churn_date\"] = df_users[\"churn_date\"].fillna(\"1900-01-01\")\n",
    "df_users.sample(5)\n"
   ]
  },
  {
   "cell_type": "code",
   "execution_count": 27,
   "metadata": {
    "colab": {
     "base_uri": "https://localhost:8080/",
     "height": 206
    },
    "id": "yUqX-K0C0q07",
    "outputId": "cab12ec7-a4df-4c5a-a4fb-42db7e33b043"
   },
   "outputs": [
    {
     "data": {
      "text/html": [
       "<div>\n",
       "<style scoped>\n",
       "    .dataframe tbody tr th:only-of-type {\n",
       "        vertical-align: middle;\n",
       "    }\n",
       "\n",
       "    .dataframe tbody tr th {\n",
       "        vertical-align: top;\n",
       "    }\n",
       "\n",
       "    .dataframe thead th {\n",
       "        text-align: right;\n",
       "    }\n",
       "</style>\n",
       "<table border=\"1\" class=\"dataframe\">\n",
       "  <thead>\n",
       "    <tr style=\"text-align: right;\">\n",
       "      <th></th>\n",
       "      <th>user_id</th>\n",
       "      <th>plan</th>\n",
       "      <th>user_name</th>\n",
       "      <th>age</th>\n",
       "      <th>city</th>\n",
       "      <th>reg_date</th>\n",
       "      <th>churn_date</th>\n",
       "    </tr>\n",
       "  </thead>\n",
       "  <tbody>\n",
       "    <tr>\n",
       "      <th>217</th>\n",
       "      <td>1217</td>\n",
       "      <td>surf</td>\n",
       "      <td>Ned Thomas</td>\n",
       "      <td>69</td>\n",
       "      <td>Dayton-Kettering, OH MSA</td>\n",
       "      <td>2018-06-04</td>\n",
       "      <td>1900-01-01</td>\n",
       "    </tr>\n",
       "    <tr>\n",
       "      <th>149</th>\n",
       "      <td>1149</td>\n",
       "      <td>surf</td>\n",
       "      <td>Jamaal Camacho</td>\n",
       "      <td>54</td>\n",
       "      <td>San Francisco-Oakland-Berkeley, CA MSA</td>\n",
       "      <td>2018-03-03</td>\n",
       "      <td>1900-01-01</td>\n",
       "    </tr>\n",
       "    <tr>\n",
       "      <th>422</th>\n",
       "      <td>1422</td>\n",
       "      <td>ultimate</td>\n",
       "      <td>Georgianne Huff</td>\n",
       "      <td>41</td>\n",
       "      <td>Los Angeles-Long Beach-Anaheim, CA MSA</td>\n",
       "      <td>2018-04-03</td>\n",
       "      <td>1900-01-01</td>\n",
       "    </tr>\n",
       "    <tr>\n",
       "      <th>150</th>\n",
       "      <td>1150</td>\n",
       "      <td>ultimate</td>\n",
       "      <td>Earlie Giles</td>\n",
       "      <td>46</td>\n",
       "      <td>Houston-The Woodlands-Sugar Land, TX MSA</td>\n",
       "      <td>2018-09-19</td>\n",
       "      <td>1900-01-01</td>\n",
       "    </tr>\n",
       "    <tr>\n",
       "      <th>290</th>\n",
       "      <td>1290</td>\n",
       "      <td>surf</td>\n",
       "      <td>Thaddeus Compton</td>\n",
       "      <td>33</td>\n",
       "      <td>New York-Newark-Jersey City, NY-NJ-PA MSA</td>\n",
       "      <td>2018-09-14</td>\n",
       "      <td>1900-01-01</td>\n",
       "    </tr>\n",
       "  </tbody>\n",
       "</table>\n",
       "</div>"
      ],
      "text/plain": [
       "     user_id      plan         user_name  age  \\\n",
       "217     1217      surf        Ned Thomas   69   \n",
       "149     1149      surf    Jamaal Camacho   54   \n",
       "422     1422  ultimate   Georgianne Huff   41   \n",
       "150     1150  ultimate      Earlie Giles   46   \n",
       "290     1290      surf  Thaddeus Compton   33   \n",
       "\n",
       "                                          city   reg_date  churn_date  \n",
       "217                   Dayton-Kettering, OH MSA 2018-06-04  1900-01-01  \n",
       "149     San Francisco-Oakland-Berkeley, CA MSA 2018-03-03  1900-01-01  \n",
       "422     Los Angeles-Long Beach-Anaheim, CA MSA 2018-04-03  1900-01-01  \n",
       "150   Houston-The Woodlands-Sugar Land, TX MSA 2018-09-19  1900-01-01  \n",
       "290  New York-Newark-Jersey City, NY-NJ-PA MSA 2018-09-14  1900-01-01  "
      ]
     },
     "execution_count": 27,
     "metadata": {},
     "output_type": "execute_result"
    }
   ],
   "source": [
    "# Combino las columnas first_name y last name, para crear la columna \"user_name\".\n",
    "df_users[\"user_name\"] = df_users[\"first_name\"].astype(str) + \" \" + df_users[\"last_name\"]\n",
    "\n",
    "# Elimino las columnas first_name y last_name.\n",
    "df_users = df_users.drop([\"first_name\", \"last_name\"], axis=1)\n",
    "\n",
    "# Reordeno las columnas a un orden más lógico y comprensible para mí.\n",
    "users_columns = [\"user_id\", \"plan\", \"user_name\", \"age\", \"city\", \"reg_date\", \"churn_date\"]\n",
    "df_users = df_users[users_columns]\n",
    "df_users.sample(5)\n"
   ]
  },
  {
   "cell_type": "code",
   "execution_count": 28,
   "metadata": {
    "colab": {
     "base_uri": "https://localhost:8080/",
     "height": 224
    },
    "id": "r1CGl4s_khR9",
    "outputId": "c4eab1ae-af87-4b93-c91f-326859965f21"
   },
   "outputs": [
    {
     "name": "stdout",
     "output_type": "stream",
     "text": [
      "Duplicados: 0\n"
     ]
    },
    {
     "data": {
      "text/html": [
       "<div>\n",
       "<style scoped>\n",
       "    .dataframe tbody tr th:only-of-type {\n",
       "        vertical-align: middle;\n",
       "    }\n",
       "\n",
       "    .dataframe tbody tr th {\n",
       "        vertical-align: top;\n",
       "    }\n",
       "\n",
       "    .dataframe thead th {\n",
       "        text-align: right;\n",
       "    }\n",
       "</style>\n",
       "<table border=\"1\" class=\"dataframe\">\n",
       "  <thead>\n",
       "    <tr style=\"text-align: right;\">\n",
       "      <th></th>\n",
       "      <th>user_id</th>\n",
       "      <th>plan</th>\n",
       "      <th>user_name</th>\n",
       "      <th>age</th>\n",
       "      <th>city</th>\n",
       "      <th>reg_date</th>\n",
       "      <th>churn_date</th>\n",
       "    </tr>\n",
       "  </thead>\n",
       "  <tbody>\n",
       "    <tr>\n",
       "      <th>29</th>\n",
       "      <td>1029</td>\n",
       "      <td>surf</td>\n",
       "      <td>FRANKLYN HENSON</td>\n",
       "      <td>59</td>\n",
       "      <td>Tampa-St. Petersburg-Clearwater, FL MSA</td>\n",
       "      <td>2018-01-05</td>\n",
       "      <td>1900-01-01</td>\n",
       "    </tr>\n",
       "    <tr>\n",
       "      <th>335</th>\n",
       "      <td>1335</td>\n",
       "      <td>surf</td>\n",
       "      <td>GAIL COLEMAN</td>\n",
       "      <td>61</td>\n",
       "      <td>Dallas-Fort Worth-Arlington, TX MSA</td>\n",
       "      <td>2018-06-02</td>\n",
       "      <td>1900-01-01</td>\n",
       "    </tr>\n",
       "    <tr>\n",
       "      <th>13</th>\n",
       "      <td>1013</td>\n",
       "      <td>ultimate</td>\n",
       "      <td>NICOLAS SNIDER</td>\n",
       "      <td>50</td>\n",
       "      <td>Knoxville, TN MSA</td>\n",
       "      <td>2018-12-01</td>\n",
       "      <td>1900-01-01</td>\n",
       "    </tr>\n",
       "    <tr>\n",
       "      <th>36</th>\n",
       "      <td>1036</td>\n",
       "      <td>ultimate</td>\n",
       "      <td>MYRON HODGE</td>\n",
       "      <td>70</td>\n",
       "      <td>Denver-Aurora-Lakewood, CO MSA</td>\n",
       "      <td>2018-05-09</td>\n",
       "      <td>1900-01-01</td>\n",
       "    </tr>\n",
       "    <tr>\n",
       "      <th>242</th>\n",
       "      <td>1242</td>\n",
       "      <td>surf</td>\n",
       "      <td>LASHUNDA JOHNS</td>\n",
       "      <td>37</td>\n",
       "      <td>San Antonio-New Braunfels, TX MSA</td>\n",
       "      <td>2018-06-02</td>\n",
       "      <td>1900-01-01</td>\n",
       "    </tr>\n",
       "  </tbody>\n",
       "</table>\n",
       "</div>"
      ],
      "text/plain": [
       "    user_id      plan        user_name  age  \\\n",
       "29     1029      surf  FRANKLYN HENSON   59   \n",
       "335    1335      surf     GAIL COLEMAN   61   \n",
       "13     1013  ultimate   NICOLAS SNIDER   50   \n",
       "36     1036  ultimate      MYRON HODGE   70   \n",
       "242    1242      surf   LASHUNDA JOHNS   37   \n",
       "\n",
       "                                        city   reg_date  churn_date  \n",
       "29   Tampa-St. Petersburg-Clearwater, FL MSA 2018-01-05  1900-01-01  \n",
       "335      Dallas-Fort Worth-Arlington, TX MSA 2018-06-02  1900-01-01  \n",
       "13                         Knoxville, TN MSA 2018-12-01  1900-01-01  \n",
       "36            Denver-Aurora-Lakewood, CO MSA 2018-05-09  1900-01-01  \n",
       "242        San Antonio-New Braunfels, TX MSA 2018-06-02  1900-01-01  "
      ]
     },
     "execution_count": 28,
     "metadata": {},
     "output_type": "execute_result"
    }
   ],
   "source": [
    "# Cambio el tipo de la columna \"user_id\" a string.\n",
    "df_users[\"user_id\"] = df_users[\"user_id\"].astype(str)\n",
    "\n",
    "#Busco valores duplicados y muestro como queda el dataset limpio.\n",
    "df_users['user_name'] = df_users[\"user_name\"].str.upper()\n",
    "print(\"Duplicados:\", df_users.duplicated().sum())\n",
    "df_users.sample(5)"
   ]
  },
  {
   "cell_type": "markdown",
   "metadata": {
    "id": "wFoiGqqUnUsm"
   },
   "source": [
    "<div class=\"alert alert-block alert-success\">\n",
    "<b>Comentario del revisor (1ra Iteración)</b> <a class=“tocSkip”></a>\n",
    "    \n",
    "Perfecto\n",
    "\n",
    "</div>"
   ]
  },
  {
   "cell_type": "markdown",
   "metadata": {
    "id": "o7MeKCid0q08"
   },
   "source": [
    "## Llamadas"
   ]
  },
  {
   "cell_type": "code",
   "execution_count": 29,
   "metadata": {
    "colab": {
     "base_uri": "https://localhost:8080/",
     "height": 620
    },
    "id": "6dDlnoDm0q08",
    "outputId": "1ef5c95d-cf5e-4a42-9aaa-99dffd4abbf5"
   },
   "outputs": [
    {
     "name": "stdout",
     "output_type": "stream",
     "text": [
      "<class 'pandas.core.frame.DataFrame'>\n",
      "RangeIndex: 137735 entries, 0 to 137734\n",
      "Data columns (total 4 columns):\n",
      " #   Column     Non-Null Count   Dtype  \n",
      "---  ------     --------------   -----  \n",
      " 0   id         137735 non-null  object \n",
      " 1   user_id    137735 non-null  int64  \n",
      " 2   call_date  137735 non-null  object \n",
      " 3   duration   137735 non-null  float64\n",
      "dtypes: float64(1), int64(1), object(2)\n",
      "memory usage: 4.2+ MB\n"
     ]
    },
    {
     "data": {
      "text/html": [
       "<div>\n",
       "<style scoped>\n",
       "    .dataframe tbody tr th:only-of-type {\n",
       "        vertical-align: middle;\n",
       "    }\n",
       "\n",
       "    .dataframe tbody tr th {\n",
       "        vertical-align: top;\n",
       "    }\n",
       "\n",
       "    .dataframe thead th {\n",
       "        text-align: right;\n",
       "    }\n",
       "</style>\n",
       "<table border=\"1\" class=\"dataframe\">\n",
       "  <thead>\n",
       "    <tr style=\"text-align: right;\">\n",
       "      <th></th>\n",
       "      <th>id</th>\n",
       "      <th>user_id</th>\n",
       "      <th>call_date</th>\n",
       "      <th>duration</th>\n",
       "    </tr>\n",
       "  </thead>\n",
       "  <tbody>\n",
       "    <tr>\n",
       "      <th>0</th>\n",
       "      <td>1000_93</td>\n",
       "      <td>1000</td>\n",
       "      <td>2018-12-27</td>\n",
       "      <td>8.52</td>\n",
       "    </tr>\n",
       "    <tr>\n",
       "      <th>1</th>\n",
       "      <td>1000_145</td>\n",
       "      <td>1000</td>\n",
       "      <td>2018-12-27</td>\n",
       "      <td>13.66</td>\n",
       "    </tr>\n",
       "    <tr>\n",
       "      <th>2</th>\n",
       "      <td>1000_247</td>\n",
       "      <td>1000</td>\n",
       "      <td>2018-12-27</td>\n",
       "      <td>14.48</td>\n",
       "    </tr>\n",
       "    <tr>\n",
       "      <th>3</th>\n",
       "      <td>1000_309</td>\n",
       "      <td>1000</td>\n",
       "      <td>2018-12-28</td>\n",
       "      <td>5.76</td>\n",
       "    </tr>\n",
       "    <tr>\n",
       "      <th>4</th>\n",
       "      <td>1000_380</td>\n",
       "      <td>1000</td>\n",
       "      <td>2018-12-30</td>\n",
       "      <td>4.22</td>\n",
       "    </tr>\n",
       "    <tr>\n",
       "      <th>...</th>\n",
       "      <td>...</td>\n",
       "      <td>...</td>\n",
       "      <td>...</td>\n",
       "      <td>...</td>\n",
       "    </tr>\n",
       "    <tr>\n",
       "      <th>137730</th>\n",
       "      <td>1499_199</td>\n",
       "      <td>1499</td>\n",
       "      <td>2018-11-21</td>\n",
       "      <td>8.72</td>\n",
       "    </tr>\n",
       "    <tr>\n",
       "      <th>137731</th>\n",
       "      <td>1499_200</td>\n",
       "      <td>1499</td>\n",
       "      <td>2018-10-20</td>\n",
       "      <td>10.89</td>\n",
       "    </tr>\n",
       "    <tr>\n",
       "      <th>137732</th>\n",
       "      <td>1499_201</td>\n",
       "      <td>1499</td>\n",
       "      <td>2018-09-21</td>\n",
       "      <td>8.12</td>\n",
       "    </tr>\n",
       "    <tr>\n",
       "      <th>137733</th>\n",
       "      <td>1499_202</td>\n",
       "      <td>1499</td>\n",
       "      <td>2018-10-10</td>\n",
       "      <td>0.37</td>\n",
       "    </tr>\n",
       "    <tr>\n",
       "      <th>137734</th>\n",
       "      <td>1499_203</td>\n",
       "      <td>1499</td>\n",
       "      <td>2018-12-29</td>\n",
       "      <td>13.86</td>\n",
       "    </tr>\n",
       "  </tbody>\n",
       "</table>\n",
       "<p>137735 rows × 4 columns</p>\n",
       "</div>"
      ],
      "text/plain": [
       "              id  user_id   call_date  duration\n",
       "0        1000_93     1000  2018-12-27      8.52\n",
       "1       1000_145     1000  2018-12-27     13.66\n",
       "2       1000_247     1000  2018-12-27     14.48\n",
       "3       1000_309     1000  2018-12-28      5.76\n",
       "4       1000_380     1000  2018-12-30      4.22\n",
       "...          ...      ...         ...       ...\n",
       "137730  1499_199     1499  2018-11-21      8.72\n",
       "137731  1499_200     1499  2018-10-20     10.89\n",
       "137732  1499_201     1499  2018-09-21      8.12\n",
       "137733  1499_202     1499  2018-10-10      0.37\n",
       "137734  1499_203     1499  2018-12-29     13.86\n",
       "\n",
       "[137735 rows x 4 columns]"
      ]
     },
     "execution_count": 29,
     "metadata": {},
     "output_type": "execute_result"
    }
   ],
   "source": [
    "# Imprimo la información general/resumida sobre el DataFrame de las llamadas\n",
    "df_calls.info()\n",
    "\n",
    "# Imprimo una muestra de datos para las llamadas\n",
    "df_calls"
   ]
  },
  {
   "cell_type": "code",
   "execution_count": 30,
   "metadata": {
    "colab": {
     "base_uri": "https://localhost:8080/",
     "height": 442
    },
    "id": "vj6j-MTtA_q6",
    "outputId": "853c6e59-6ef2-4c30-ae26-bfcf99e79d9e"
   },
   "outputs": [
    {
     "name": "stdout",
     "output_type": "stream",
     "text": [
      "Duplicados: 0\n"
     ]
    },
    {
     "data": {
      "text/html": [
       "<div>\n",
       "<style scoped>\n",
       "    .dataframe tbody tr th:only-of-type {\n",
       "        vertical-align: middle;\n",
       "    }\n",
       "\n",
       "    .dataframe tbody tr th {\n",
       "        vertical-align: top;\n",
       "    }\n",
       "\n",
       "    .dataframe thead th {\n",
       "        text-align: right;\n",
       "    }\n",
       "</style>\n",
       "<table border=\"1\" class=\"dataframe\">\n",
       "  <thead>\n",
       "    <tr style=\"text-align: right;\">\n",
       "      <th></th>\n",
       "      <th>id</th>\n",
       "      <th>user_id</th>\n",
       "      <th>call_date</th>\n",
       "      <th>duration</th>\n",
       "      <th>minutes_charged</th>\n",
       "    </tr>\n",
       "  </thead>\n",
       "  <tbody>\n",
       "    <tr>\n",
       "      <th>0</th>\n",
       "      <td>1000_93</td>\n",
       "      <td>1000</td>\n",
       "      <td>2018-12-27</td>\n",
       "      <td>8.52</td>\n",
       "      <td>9.0</td>\n",
       "    </tr>\n",
       "    <tr>\n",
       "      <th>1</th>\n",
       "      <td>1000_145</td>\n",
       "      <td>1000</td>\n",
       "      <td>2018-12-27</td>\n",
       "      <td>13.66</td>\n",
       "      <td>14.0</td>\n",
       "    </tr>\n",
       "    <tr>\n",
       "      <th>2</th>\n",
       "      <td>1000_247</td>\n",
       "      <td>1000</td>\n",
       "      <td>2018-12-27</td>\n",
       "      <td>14.48</td>\n",
       "      <td>15.0</td>\n",
       "    </tr>\n",
       "    <tr>\n",
       "      <th>3</th>\n",
       "      <td>1000_309</td>\n",
       "      <td>1000</td>\n",
       "      <td>2018-12-28</td>\n",
       "      <td>5.76</td>\n",
       "      <td>6.0</td>\n",
       "    </tr>\n",
       "    <tr>\n",
       "      <th>4</th>\n",
       "      <td>1000_380</td>\n",
       "      <td>1000</td>\n",
       "      <td>2018-12-30</td>\n",
       "      <td>4.22</td>\n",
       "      <td>5.0</td>\n",
       "    </tr>\n",
       "    <tr>\n",
       "      <th>...</th>\n",
       "      <td>...</td>\n",
       "      <td>...</td>\n",
       "      <td>...</td>\n",
       "      <td>...</td>\n",
       "      <td>...</td>\n",
       "    </tr>\n",
       "    <tr>\n",
       "      <th>137730</th>\n",
       "      <td>1499_199</td>\n",
       "      <td>1499</td>\n",
       "      <td>2018-11-21</td>\n",
       "      <td>8.72</td>\n",
       "      <td>9.0</td>\n",
       "    </tr>\n",
       "    <tr>\n",
       "      <th>137731</th>\n",
       "      <td>1499_200</td>\n",
       "      <td>1499</td>\n",
       "      <td>2018-10-20</td>\n",
       "      <td>10.89</td>\n",
       "      <td>11.0</td>\n",
       "    </tr>\n",
       "    <tr>\n",
       "      <th>137732</th>\n",
       "      <td>1499_201</td>\n",
       "      <td>1499</td>\n",
       "      <td>2018-09-21</td>\n",
       "      <td>8.12</td>\n",
       "      <td>9.0</td>\n",
       "    </tr>\n",
       "    <tr>\n",
       "      <th>137733</th>\n",
       "      <td>1499_202</td>\n",
       "      <td>1499</td>\n",
       "      <td>2018-10-10</td>\n",
       "      <td>0.37</td>\n",
       "      <td>1.0</td>\n",
       "    </tr>\n",
       "    <tr>\n",
       "      <th>137734</th>\n",
       "      <td>1499_203</td>\n",
       "      <td>1499</td>\n",
       "      <td>2018-12-29</td>\n",
       "      <td>13.86</td>\n",
       "      <td>14.0</td>\n",
       "    </tr>\n",
       "  </tbody>\n",
       "</table>\n",
       "<p>137735 rows × 5 columns</p>\n",
       "</div>"
      ],
      "text/plain": [
       "              id user_id  call_date  duration  minutes_charged\n",
       "0        1000_93    1000 2018-12-27      8.52              9.0\n",
       "1       1000_145    1000 2018-12-27     13.66             14.0\n",
       "2       1000_247    1000 2018-12-27     14.48             15.0\n",
       "3       1000_309    1000 2018-12-28      5.76              6.0\n",
       "4       1000_380    1000 2018-12-30      4.22              5.0\n",
       "...          ...     ...        ...       ...              ...\n",
       "137730  1499_199    1499 2018-11-21      8.72              9.0\n",
       "137731  1499_200    1499 2018-10-20     10.89             11.0\n",
       "137732  1499_201    1499 2018-09-21      8.12              9.0\n",
       "137733  1499_202    1499 2018-10-10      0.37              1.0\n",
       "137734  1499_203    1499 2018-12-29     13.86             14.0\n",
       "\n",
       "[137735 rows x 5 columns]"
      ]
     },
     "execution_count": 30,
     "metadata": {},
     "output_type": "execute_result"
    }
   ],
   "source": [
    "# User_id no me sirve como un int lo voy a cambiar a string.\n",
    "df_calls[\"user_id\"] = df_calls[\"user_id\"].astype(str)\n",
    "\n",
    "# call_date debería ser una fecha, lo cambio.\n",
    "df_calls[\"call_date\"] = pd.to_datetime(df_calls[\"call_date\"])\n",
    "\n",
    "# No tiene nulos, pero voy a revisar si tiene duplicados. Y muestro el dataframe.\n",
    "print(\"Duplicados:\", df_calls.duplicated().sum())\n",
    "\n",
    "# Creo una columna que me muestre los minutos que se van a descontar por cada llamada realizada.\n",
    "df_calls['minutes_charged'] = np.ceil(df_calls['duration'])\n",
    "df_calls\n"
   ]
  },
  {
   "cell_type": "markdown",
   "metadata": {
    "id": "VswJDzyOnwyd"
   },
   "source": [
    "<div class=\"alert alert-block alert-info\">\n",
    "<b>Comentario del alumno (2da Iteración) </b> <a class=“tocSkip”></a>\n",
    "\n",
    "Aquí estaba el problema con las llamadas, ahora creé una columa que me muestra el consumo de llamadas redondeado para arriba los minutos.\n",
    "</div>"
   ]
  },
  {
   "cell_type": "markdown",
   "metadata": {
    "id": "kGZXOygPnUsn"
   },
   "source": [
    "<div class=\"alert alert-block alert-success\">\n",
    "<b>Comentario del revisor (1ra Iteración)</b> <a class=“tocSkip”></a>\n",
    "    \n",
    "Muy bien\n",
    "\n",
    "</div>"
   ]
  },
  {
   "cell_type": "markdown",
   "metadata": {
    "id": "mOUZSi180q0_"
   },
   "source": [
    "## Mensajes"
   ]
  },
  {
   "cell_type": "code",
   "execution_count": 31,
   "metadata": {
    "colab": {
     "base_uri": "https://localhost:8080/",
     "height": 385
    },
    "id": "R-bYJpdV0q1A",
    "outputId": "3fa4675c-6656-4940-a1d7-a188780c0c7f"
   },
   "outputs": [
    {
     "name": "stdout",
     "output_type": "stream",
     "text": [
      "<class 'pandas.core.frame.DataFrame'>\n",
      "RangeIndex: 76051 entries, 0 to 76050\n",
      "Data columns (total 3 columns):\n",
      " #   Column        Non-Null Count  Dtype \n",
      "---  ------        --------------  ----- \n",
      " 0   id            76051 non-null  object\n",
      " 1   user_id       76051 non-null  int64 \n",
      " 2   message_date  76051 non-null  object\n",
      "dtypes: int64(1), object(2)\n",
      "memory usage: 1.7+ MB\n"
     ]
    },
    {
     "data": {
      "text/html": [
       "<div>\n",
       "<style scoped>\n",
       "    .dataframe tbody tr th:only-of-type {\n",
       "        vertical-align: middle;\n",
       "    }\n",
       "\n",
       "    .dataframe tbody tr th {\n",
       "        vertical-align: top;\n",
       "    }\n",
       "\n",
       "    .dataframe thead th {\n",
       "        text-align: right;\n",
       "    }\n",
       "</style>\n",
       "<table border=\"1\" class=\"dataframe\">\n",
       "  <thead>\n",
       "    <tr style=\"text-align: right;\">\n",
       "      <th></th>\n",
       "      <th>id</th>\n",
       "      <th>user_id</th>\n",
       "      <th>message_date</th>\n",
       "    </tr>\n",
       "  </thead>\n",
       "  <tbody>\n",
       "    <tr>\n",
       "      <th>67447</th>\n",
       "      <td>1438_13</td>\n",
       "      <td>1438</td>\n",
       "      <td>2018-11-22</td>\n",
       "    </tr>\n",
       "    <tr>\n",
       "      <th>43950</th>\n",
       "      <td>1293_433</td>\n",
       "      <td>1293</td>\n",
       "      <td>2018-12-22</td>\n",
       "    </tr>\n",
       "    <tr>\n",
       "      <th>60151</th>\n",
       "      <td>1381_264</td>\n",
       "      <td>1381</td>\n",
       "      <td>2018-10-26</td>\n",
       "    </tr>\n",
       "    <tr>\n",
       "      <th>72715</th>\n",
       "      <td>1470_343</td>\n",
       "      <td>1470</td>\n",
       "      <td>2018-06-24</td>\n",
       "    </tr>\n",
       "    <tr>\n",
       "      <th>33015</th>\n",
       "      <td>1205_90</td>\n",
       "      <td>1205</td>\n",
       "      <td>2018-11-24</td>\n",
       "    </tr>\n",
       "  </tbody>\n",
       "</table>\n",
       "</div>"
      ],
      "text/plain": [
       "             id  user_id message_date\n",
       "67447   1438_13     1438   2018-11-22\n",
       "43950  1293_433     1293   2018-12-22\n",
       "60151  1381_264     1381   2018-10-26\n",
       "72715  1470_343     1470   2018-06-24\n",
       "33015   1205_90     1205   2018-11-24"
      ]
     },
     "execution_count": 31,
     "metadata": {},
     "output_type": "execute_result"
    }
   ],
   "source": [
    "# Imprimo la información general/resumida sobre el DataFrame de los mensajes\n",
    "df_messages.info()\n",
    "\n",
    "# Imprimo una muestra de datos para los mensajes\n",
    "df_messages.sample(5)\n"
   ]
  },
  {
   "cell_type": "code",
   "execution_count": 32,
   "metadata": {
    "colab": {
     "base_uri": "https://localhost:8080/",
     "height": 442
    },
    "id": "gnZwXQZ8JJWN",
    "outputId": "adff62a1-6188-412c-a22d-b512f64ef9e7"
   },
   "outputs": [
    {
     "name": "stdout",
     "output_type": "stream",
     "text": [
      "Duplicados: 0\n"
     ]
    },
    {
     "data": {
      "text/html": [
       "<div>\n",
       "<style scoped>\n",
       "    .dataframe tbody tr th:only-of-type {\n",
       "        vertical-align: middle;\n",
       "    }\n",
       "\n",
       "    .dataframe tbody tr th {\n",
       "        vertical-align: top;\n",
       "    }\n",
       "\n",
       "    .dataframe thead th {\n",
       "        text-align: right;\n",
       "    }\n",
       "</style>\n",
       "<table border=\"1\" class=\"dataframe\">\n",
       "  <thead>\n",
       "    <tr style=\"text-align: right;\">\n",
       "      <th></th>\n",
       "      <th>id</th>\n",
       "      <th>user_id</th>\n",
       "      <th>message_date</th>\n",
       "    </tr>\n",
       "  </thead>\n",
       "  <tbody>\n",
       "    <tr>\n",
       "      <th>0</th>\n",
       "      <td>1000_125</td>\n",
       "      <td>1000</td>\n",
       "      <td>2018-12-27</td>\n",
       "    </tr>\n",
       "    <tr>\n",
       "      <th>1</th>\n",
       "      <td>1000_160</td>\n",
       "      <td>1000</td>\n",
       "      <td>2018-12-31</td>\n",
       "    </tr>\n",
       "    <tr>\n",
       "      <th>2</th>\n",
       "      <td>1000_223</td>\n",
       "      <td>1000</td>\n",
       "      <td>2018-12-31</td>\n",
       "    </tr>\n",
       "    <tr>\n",
       "      <th>3</th>\n",
       "      <td>1000_251</td>\n",
       "      <td>1000</td>\n",
       "      <td>2018-12-27</td>\n",
       "    </tr>\n",
       "    <tr>\n",
       "      <th>4</th>\n",
       "      <td>1000_255</td>\n",
       "      <td>1000</td>\n",
       "      <td>2018-12-26</td>\n",
       "    </tr>\n",
       "    <tr>\n",
       "      <th>...</th>\n",
       "      <td>...</td>\n",
       "      <td>...</td>\n",
       "      <td>...</td>\n",
       "    </tr>\n",
       "    <tr>\n",
       "      <th>76046</th>\n",
       "      <td>1497_526</td>\n",
       "      <td>1497</td>\n",
       "      <td>2018-12-24</td>\n",
       "    </tr>\n",
       "    <tr>\n",
       "      <th>76047</th>\n",
       "      <td>1497_536</td>\n",
       "      <td>1497</td>\n",
       "      <td>2018-12-24</td>\n",
       "    </tr>\n",
       "    <tr>\n",
       "      <th>76048</th>\n",
       "      <td>1497_547</td>\n",
       "      <td>1497</td>\n",
       "      <td>2018-12-31</td>\n",
       "    </tr>\n",
       "    <tr>\n",
       "      <th>76049</th>\n",
       "      <td>1497_558</td>\n",
       "      <td>1497</td>\n",
       "      <td>2018-12-24</td>\n",
       "    </tr>\n",
       "    <tr>\n",
       "      <th>76050</th>\n",
       "      <td>1497_613</td>\n",
       "      <td>1497</td>\n",
       "      <td>2018-12-23</td>\n",
       "    </tr>\n",
       "  </tbody>\n",
       "</table>\n",
       "<p>76051 rows × 3 columns</p>\n",
       "</div>"
      ],
      "text/plain": [
       "             id user_id message_date\n",
       "0      1000_125    1000   2018-12-27\n",
       "1      1000_160    1000   2018-12-31\n",
       "2      1000_223    1000   2018-12-31\n",
       "3      1000_251    1000   2018-12-27\n",
       "4      1000_255    1000   2018-12-26\n",
       "...         ...     ...          ...\n",
       "76046  1497_526    1497   2018-12-24\n",
       "76047  1497_536    1497   2018-12-24\n",
       "76048  1497_547    1497   2018-12-31\n",
       "76049  1497_558    1497   2018-12-24\n",
       "76050  1497_613    1497   2018-12-23\n",
       "\n",
       "[76051 rows x 3 columns]"
      ]
     },
     "execution_count": 32,
     "metadata": {},
     "output_type": "execute_result"
    }
   ],
   "source": [
    "# Igualmente user_id está como int lo cambio a string.\n",
    "df_messages[\"user_id\"] = df_messages[\"user_id\"].astype(str)\n",
    "\n",
    "# message_date no fue reconocido por python como una fecha, debo cambiarlo.\n",
    "df_messages[\"message_date\"] = pd.to_datetime(df_messages[\"message_date\"])\n",
    "\n",
    "# No tiene nulos, pero voy a revisar si tiene duplicados. Y muestro el dataframe.\n",
    "print(\"Duplicados:\", df_messages.duplicated().sum())\n",
    "df_messages"
   ]
  },
  {
   "cell_type": "markdown",
   "metadata": {
    "id": "1W_Fp9tMnUsn"
   },
   "source": [
    "<div class=\"alert alert-block alert-success\">\n",
    "<b>Comentario del revisor (1ra Iteración)</b> <a class=“tocSkip”></a>\n",
    "\n",
    "Buen trabajo Juan Carlos\n",
    "\n",
    "\n",
    "</div>"
   ]
  },
  {
   "cell_type": "markdown",
   "metadata": {
    "id": "bStkaxn40q1C"
   },
   "source": [
    "## Internet"
   ]
  },
  {
   "cell_type": "code",
   "execution_count": 33,
   "metadata": {
    "colab": {
     "base_uri": "https://localhost:8080/",
     "height": 403
    },
    "id": "e-Uz5qyn0q1C",
    "outputId": "3babafa8-2b2f-452c-a1e3-240b18a39096"
   },
   "outputs": [
    {
     "name": "stdout",
     "output_type": "stream",
     "text": [
      "<class 'pandas.core.frame.DataFrame'>\n",
      "RangeIndex: 104825 entries, 0 to 104824\n",
      "Data columns (total 4 columns):\n",
      " #   Column        Non-Null Count   Dtype  \n",
      "---  ------        --------------   -----  \n",
      " 0   id            104825 non-null  object \n",
      " 1   user_id       104825 non-null  int64  \n",
      " 2   session_date  104825 non-null  object \n",
      " 3   mb_used       104825 non-null  float64\n",
      "dtypes: float64(1), int64(1), object(2)\n",
      "memory usage: 3.2+ MB\n"
     ]
    },
    {
     "data": {
      "text/html": [
       "<div>\n",
       "<style scoped>\n",
       "    .dataframe tbody tr th:only-of-type {\n",
       "        vertical-align: middle;\n",
       "    }\n",
       "\n",
       "    .dataframe tbody tr th {\n",
       "        vertical-align: top;\n",
       "    }\n",
       "\n",
       "    .dataframe thead th {\n",
       "        text-align: right;\n",
       "    }\n",
       "</style>\n",
       "<table border=\"1\" class=\"dataframe\">\n",
       "  <thead>\n",
       "    <tr style=\"text-align: right;\">\n",
       "      <th></th>\n",
       "      <th>id</th>\n",
       "      <th>user_id</th>\n",
       "      <th>session_date</th>\n",
       "      <th>mb_used</th>\n",
       "    </tr>\n",
       "  </thead>\n",
       "  <tbody>\n",
       "    <tr>\n",
       "      <th>12260</th>\n",
       "      <td>1059_371</td>\n",
       "      <td>1059</td>\n",
       "      <td>2018-07-28</td>\n",
       "      <td>10.51</td>\n",
       "    </tr>\n",
       "    <tr>\n",
       "      <th>48154</th>\n",
       "      <td>1214_528</td>\n",
       "      <td>1214</td>\n",
       "      <td>2018-07-18</td>\n",
       "      <td>383.54</td>\n",
       "    </tr>\n",
       "    <tr>\n",
       "      <th>41338</th>\n",
       "      <td>1185_375</td>\n",
       "      <td>1185</td>\n",
       "      <td>2018-04-29</td>\n",
       "      <td>326.65</td>\n",
       "    </tr>\n",
       "    <tr>\n",
       "      <th>24406</th>\n",
       "      <td>1112_114</td>\n",
       "      <td>1112</td>\n",
       "      <td>2018-12-17</td>\n",
       "      <td>330.62</td>\n",
       "    </tr>\n",
       "    <tr>\n",
       "      <th>23339</th>\n",
       "      <td>1106_717</td>\n",
       "      <td>1106</td>\n",
       "      <td>2018-06-26</td>\n",
       "      <td>0.00</td>\n",
       "    </tr>\n",
       "  </tbody>\n",
       "</table>\n",
       "</div>"
      ],
      "text/plain": [
       "             id  user_id session_date  mb_used\n",
       "12260  1059_371     1059   2018-07-28    10.51\n",
       "48154  1214_528     1214   2018-07-18   383.54\n",
       "41338  1185_375     1185   2018-04-29   326.65\n",
       "24406  1112_114     1112   2018-12-17   330.62\n",
       "23339  1106_717     1106   2018-06-26     0.00"
      ]
     },
     "execution_count": 33,
     "metadata": {},
     "output_type": "execute_result"
    }
   ],
   "source": [
    "# Imprimo la información general/resumida sobre el DataFrame de internet.\n",
    "df_internet.info()\n",
    "\n",
    "# Imprime una muestra de datos para el tráfico de internet\n",
    "df_internet.sample(5)"
   ]
  },
  {
   "cell_type": "code",
   "execution_count": 34,
   "metadata": {
    "colab": {
     "base_uri": "https://localhost:8080/",
     "height": 442
    },
    "id": "9r3x_XLw0q1C",
    "outputId": "53360eb7-94cd-4bb1-f4d2-6115f3bb8b7f"
   },
   "outputs": [
    {
     "name": "stdout",
     "output_type": "stream",
     "text": [
      "Duplicados: 0\n"
     ]
    },
    {
     "data": {
      "text/html": [
       "<div>\n",
       "<style scoped>\n",
       "    .dataframe tbody tr th:only-of-type {\n",
       "        vertical-align: middle;\n",
       "    }\n",
       "\n",
       "    .dataframe tbody tr th {\n",
       "        vertical-align: top;\n",
       "    }\n",
       "\n",
       "    .dataframe thead th {\n",
       "        text-align: right;\n",
       "    }\n",
       "</style>\n",
       "<table border=\"1\" class=\"dataframe\">\n",
       "  <thead>\n",
       "    <tr style=\"text-align: right;\">\n",
       "      <th></th>\n",
       "      <th>id</th>\n",
       "      <th>user_id</th>\n",
       "      <th>session_date</th>\n",
       "      <th>mb_used</th>\n",
       "    </tr>\n",
       "  </thead>\n",
       "  <tbody>\n",
       "    <tr>\n",
       "      <th>0</th>\n",
       "      <td>1000_13</td>\n",
       "      <td>1000</td>\n",
       "      <td>2018-12-29</td>\n",
       "      <td>89.86</td>\n",
       "    </tr>\n",
       "    <tr>\n",
       "      <th>1</th>\n",
       "      <td>1000_204</td>\n",
       "      <td>1000</td>\n",
       "      <td>2018-12-31</td>\n",
       "      <td>0.00</td>\n",
       "    </tr>\n",
       "    <tr>\n",
       "      <th>2</th>\n",
       "      <td>1000_379</td>\n",
       "      <td>1000</td>\n",
       "      <td>2018-12-28</td>\n",
       "      <td>660.40</td>\n",
       "    </tr>\n",
       "    <tr>\n",
       "      <th>3</th>\n",
       "      <td>1000_413</td>\n",
       "      <td>1000</td>\n",
       "      <td>2018-12-26</td>\n",
       "      <td>270.99</td>\n",
       "    </tr>\n",
       "    <tr>\n",
       "      <th>4</th>\n",
       "      <td>1000_442</td>\n",
       "      <td>1000</td>\n",
       "      <td>2018-12-27</td>\n",
       "      <td>880.22</td>\n",
       "    </tr>\n",
       "    <tr>\n",
       "      <th>...</th>\n",
       "      <td>...</td>\n",
       "      <td>...</td>\n",
       "      <td>...</td>\n",
       "      <td>...</td>\n",
       "    </tr>\n",
       "    <tr>\n",
       "      <th>104820</th>\n",
       "      <td>1499_215</td>\n",
       "      <td>1499</td>\n",
       "      <td>2018-10-20</td>\n",
       "      <td>218.06</td>\n",
       "    </tr>\n",
       "    <tr>\n",
       "      <th>104821</th>\n",
       "      <td>1499_216</td>\n",
       "      <td>1499</td>\n",
       "      <td>2018-12-30</td>\n",
       "      <td>304.72</td>\n",
       "    </tr>\n",
       "    <tr>\n",
       "      <th>104822</th>\n",
       "      <td>1499_217</td>\n",
       "      <td>1499</td>\n",
       "      <td>2018-09-22</td>\n",
       "      <td>292.75</td>\n",
       "    </tr>\n",
       "    <tr>\n",
       "      <th>104823</th>\n",
       "      <td>1499_218</td>\n",
       "      <td>1499</td>\n",
       "      <td>2018-12-07</td>\n",
       "      <td>0.00</td>\n",
       "    </tr>\n",
       "    <tr>\n",
       "      <th>104824</th>\n",
       "      <td>1499_219</td>\n",
       "      <td>1499</td>\n",
       "      <td>2018-12-24</td>\n",
       "      <td>758.31</td>\n",
       "    </tr>\n",
       "  </tbody>\n",
       "</table>\n",
       "<p>104825 rows × 4 columns</p>\n",
       "</div>"
      ],
      "text/plain": [
       "              id  user_id session_date  mb_used\n",
       "0        1000_13     1000   2018-12-29    89.86\n",
       "1       1000_204     1000   2018-12-31     0.00\n",
       "2       1000_379     1000   2018-12-28   660.40\n",
       "3       1000_413     1000   2018-12-26   270.99\n",
       "4       1000_442     1000   2018-12-27   880.22\n",
       "...          ...      ...          ...      ...\n",
       "104820  1499_215     1499   2018-10-20   218.06\n",
       "104821  1499_216     1499   2018-12-30   304.72\n",
       "104822  1499_217     1499   2018-09-22   292.75\n",
       "104823  1499_218     1499   2018-12-07     0.00\n",
       "104824  1499_219     1499   2018-12-24   758.31\n",
       "\n",
       "[104825 rows x 4 columns]"
      ]
     },
     "execution_count": 34,
     "metadata": {},
     "output_type": "execute_result"
    }
   ],
   "source": [
    "# una vez más cambio user_id a string.\n",
    "df_users[\"user_id\"] = df_users['user_id'] .astype(str)\n",
    "\n",
    "# Session_date lo cambio a fecha.\n",
    "df_internet[\"session_date\"] = pd.to_datetime(df_internet[\"session_date\"])\n",
    "\n",
    "#Busco duplicados e imprimo el dataframe.\n",
    "print(\"Duplicados:\", df_internet.duplicated().sum())\n",
    "df_internet\n"
   ]
  },
  {
   "cell_type": "markdown",
   "metadata": {
    "id": "TlRYdYoenUsn"
   },
   "source": [
    "<div class=\"alert alert-block alert-success\">\n",
    "<b>Comentario del revisor (1ra Iteración)</b> <a class=“tocSkip”></a>\n",
    "    \n",
    "Excelente análisis exploratorio de datos.\n",
    "\n",
    "\n",
    "</div>"
   ]
  },
  {
   "cell_type": "markdown",
   "metadata": {
    "id": "3UA2cqIW0q1E"
   },
   "source": [
    "## Estudiar las condiciones de las tarifas"
   ]
  },
  {
   "cell_type": "markdown",
   "metadata": {
    "id": "T86Sqltq0q1F"
   },
   "source": [
    "[Es sumamente importante entender cómo funcionan las tarifas, cómo se les cobra a los usuarios en función de su plan de suscripción. Así que te sugerimos imprimir la información de la tarifa para ver una vez más sus condiciones.]"
   ]
  },
  {
   "cell_type": "code",
   "execution_count": 35,
   "metadata": {
    "colab": {
     "base_uri": "https://localhost:8080/",
     "height": 145
    },
    "id": "i409op8p0q1F",
    "outputId": "6cdc70a3-4903-4a01-adbf-75806a93ba77",
    "scrolled": true
   },
   "outputs": [
    {
     "data": {
      "text/html": [
       "<div>\n",
       "<style scoped>\n",
       "    .dataframe tbody tr th:only-of-type {\n",
       "        vertical-align: middle;\n",
       "    }\n",
       "\n",
       "    .dataframe tbody tr th {\n",
       "        vertical-align: top;\n",
       "    }\n",
       "\n",
       "    .dataframe thead th {\n",
       "        text-align: right;\n",
       "    }\n",
       "</style>\n",
       "<table border=\"1\" class=\"dataframe\">\n",
       "  <thead>\n",
       "    <tr style=\"text-align: right;\">\n",
       "      <th></th>\n",
       "      <th>plan</th>\n",
       "      <th>usd_monthly_pay</th>\n",
       "      <th>gb_per_month_included</th>\n",
       "      <th>mb_per_month_included</th>\n",
       "      <th>minutes_included</th>\n",
       "      <th>messages_included</th>\n",
       "      <th>usd_per_gb</th>\n",
       "      <th>usd_per_minute</th>\n",
       "      <th>usd_per_message</th>\n",
       "    </tr>\n",
       "  </thead>\n",
       "  <tbody>\n",
       "    <tr>\n",
       "      <th>0</th>\n",
       "      <td>surf</td>\n",
       "      <td>20</td>\n",
       "      <td>15.0</td>\n",
       "      <td>15360</td>\n",
       "      <td>500</td>\n",
       "      <td>50</td>\n",
       "      <td>10</td>\n",
       "      <td>0.03</td>\n",
       "      <td>0.03</td>\n",
       "    </tr>\n",
       "    <tr>\n",
       "      <th>1</th>\n",
       "      <td>ultimate</td>\n",
       "      <td>70</td>\n",
       "      <td>30.0</td>\n",
       "      <td>30720</td>\n",
       "      <td>3000</td>\n",
       "      <td>1000</td>\n",
       "      <td>7</td>\n",
       "      <td>0.01</td>\n",
       "      <td>0.01</td>\n",
       "    </tr>\n",
       "  </tbody>\n",
       "</table>\n",
       "</div>"
      ],
      "text/plain": [
       "       plan  usd_monthly_pay  gb_per_month_included  mb_per_month_included  \\\n",
       "0      surf               20                   15.0                  15360   \n",
       "1  ultimate               70                   30.0                  30720   \n",
       "\n",
       "   minutes_included  messages_included  usd_per_gb  usd_per_minute  \\\n",
       "0               500                 50          10            0.03   \n",
       "1              3000               1000           7            0.01   \n",
       "\n",
       "   usd_per_message  \n",
       "0             0.03  \n",
       "1             0.01  "
      ]
     },
     "execution_count": 35,
     "metadata": {},
     "output_type": "execute_result"
    }
   ],
   "source": [
    "# Imprime las condiciones de la tarifa y asegúrate de que te quedan claras\n",
    "df_plans\n"
   ]
  },
  {
   "cell_type": "markdown",
   "metadata": {
    "id": "hMR1tP5d0q1F"
   },
   "source": [
    "## Agregar datos por usuario\n",
    "\n",
    "[Ahora que los datos están limpios, agrega los datos por usuario y por periodo para que solo haya un registro por usuario y por periodo. Esto facilitará mucho el análisis posterior.]"
   ]
  },
  {
   "cell_type": "markdown",
   "metadata": {
    "id": "mXdzp9ccT4Hn"
   },
   "source": [
    "**LLAMADAS REALIZADAS AL MES POR USUARIO**\n"
   ]
  },
  {
   "cell_type": "code",
   "execution_count": 36,
   "metadata": {
    "colab": {
     "base_uri": "https://localhost:8080/",
     "height": 424
    },
    "id": "A332cedB0q1G",
    "outputId": "b86795fd-4fca-41f5-f1ec-6f243cf15832"
   },
   "outputs": [
    {
     "data": {
      "text/html": [
       "<div>\n",
       "<style scoped>\n",
       "    .dataframe tbody tr th:only-of-type {\n",
       "        vertical-align: middle;\n",
       "    }\n",
       "\n",
       "    .dataframe tbody tr th {\n",
       "        vertical-align: top;\n",
       "    }\n",
       "\n",
       "    .dataframe thead th {\n",
       "        text-align: right;\n",
       "    }\n",
       "</style>\n",
       "<table border=\"1\" class=\"dataframe\">\n",
       "  <thead>\n",
       "    <tr style=\"text-align: right;\">\n",
       "      <th></th>\n",
       "      <th>user_id</th>\n",
       "      <th>user_name</th>\n",
       "      <th>month</th>\n",
       "      <th>calls</th>\n",
       "    </tr>\n",
       "  </thead>\n",
       "  <tbody>\n",
       "    <tr>\n",
       "      <th>0</th>\n",
       "      <td>1000</td>\n",
       "      <td>ANAMARIA BAUER</td>\n",
       "      <td>12</td>\n",
       "      <td>16</td>\n",
       "    </tr>\n",
       "    <tr>\n",
       "      <th>1</th>\n",
       "      <td>1001</td>\n",
       "      <td>MICKEY WILKERSON</td>\n",
       "      <td>8</td>\n",
       "      <td>27</td>\n",
       "    </tr>\n",
       "    <tr>\n",
       "      <th>2</th>\n",
       "      <td>1001</td>\n",
       "      <td>MICKEY WILKERSON</td>\n",
       "      <td>9</td>\n",
       "      <td>49</td>\n",
       "    </tr>\n",
       "    <tr>\n",
       "      <th>3</th>\n",
       "      <td>1001</td>\n",
       "      <td>MICKEY WILKERSON</td>\n",
       "      <td>10</td>\n",
       "      <td>65</td>\n",
       "    </tr>\n",
       "    <tr>\n",
       "      <th>4</th>\n",
       "      <td>1001</td>\n",
       "      <td>MICKEY WILKERSON</td>\n",
       "      <td>11</td>\n",
       "      <td>64</td>\n",
       "    </tr>\n",
       "    <tr>\n",
       "      <th>...</th>\n",
       "      <td>...</td>\n",
       "      <td>...</td>\n",
       "      <td>...</td>\n",
       "      <td>...</td>\n",
       "    </tr>\n",
       "    <tr>\n",
       "      <th>2253</th>\n",
       "      <td>1498</td>\n",
       "      <td>SCOT WILLIAMSON</td>\n",
       "      <td>12</td>\n",
       "      <td>39</td>\n",
       "    </tr>\n",
       "    <tr>\n",
       "      <th>2254</th>\n",
       "      <td>1499</td>\n",
       "      <td>SHENA DICKSON</td>\n",
       "      <td>9</td>\n",
       "      <td>41</td>\n",
       "    </tr>\n",
       "    <tr>\n",
       "      <th>2255</th>\n",
       "      <td>1499</td>\n",
       "      <td>SHENA DICKSON</td>\n",
       "      <td>10</td>\n",
       "      <td>53</td>\n",
       "    </tr>\n",
       "    <tr>\n",
       "      <th>2256</th>\n",
       "      <td>1499</td>\n",
       "      <td>SHENA DICKSON</td>\n",
       "      <td>11</td>\n",
       "      <td>45</td>\n",
       "    </tr>\n",
       "    <tr>\n",
       "      <th>2257</th>\n",
       "      <td>1499</td>\n",
       "      <td>SHENA DICKSON</td>\n",
       "      <td>12</td>\n",
       "      <td>65</td>\n",
       "    </tr>\n",
       "  </tbody>\n",
       "</table>\n",
       "<p>2258 rows × 4 columns</p>\n",
       "</div>"
      ],
      "text/plain": [
       "     user_id         user_name  month  calls\n",
       "0       1000    ANAMARIA BAUER     12     16\n",
       "1       1001  MICKEY WILKERSON      8     27\n",
       "2       1001  MICKEY WILKERSON      9     49\n",
       "3       1001  MICKEY WILKERSON     10     65\n",
       "4       1001  MICKEY WILKERSON     11     64\n",
       "...      ...               ...    ...    ...\n",
       "2253    1498   SCOT WILLIAMSON     12     39\n",
       "2254    1499     SHENA DICKSON      9     41\n",
       "2255    1499     SHENA DICKSON     10     53\n",
       "2256    1499     SHENA DICKSON     11     45\n",
       "2257    1499     SHENA DICKSON     12     65\n",
       "\n",
       "[2258 rows x 4 columns]"
      ]
     },
     "execution_count": 36,
     "metadata": {},
     "output_type": "execute_result"
    }
   ],
   "source": [
    "#Combino el dataframe de usuarios con el de llamadas.\n",
    "df_calls_names = pd.merge(df_users, df_calls, on='user_id')\n",
    "\n",
    "# Calculo el número de llamadas hechas por cada usuario al mes. Guardo el resultado.\n",
    "df_calls_month = df_calls_names.groupby(['user_id', 'user_name', df_calls_names['call_date'].dt.month])['duration'].count()\n",
    "df_calls_month = df_calls_month.reset_index()\n",
    "df_calls_month = df_calls_month.rename(columns={'call_date': 'month', 'duration': 'calls'})\n",
    "df_calls_month\n"
   ]
  },
  {
   "cell_type": "markdown",
   "metadata": {
    "id": "jnnq83mSUdo3"
   },
   "source": [
    "**MINUTOS USADOS AL MES**"
   ]
  },
  {
   "cell_type": "code",
   "execution_count": 57,
   "metadata": {
    "colab": {
     "base_uri": "https://localhost:8080/",
     "height": 424
    },
    "id": "aw2cmuql0q1G",
    "outputId": "10e21a2c-afdb-4fc7-99ac-d1687fd627f4"
   },
   "outputs": [
    {
     "data": {
      "text/html": [
       "<div>\n",
       "<style scoped>\n",
       "    .dataframe tbody tr th:only-of-type {\n",
       "        vertical-align: middle;\n",
       "    }\n",
       "\n",
       "    .dataframe tbody tr th {\n",
       "        vertical-align: top;\n",
       "    }\n",
       "\n",
       "    .dataframe thead th {\n",
       "        text-align: right;\n",
       "    }\n",
       "</style>\n",
       "<table border=\"1\" class=\"dataframe\">\n",
       "  <thead>\n",
       "    <tr style=\"text-align: right;\">\n",
       "      <th></th>\n",
       "      <th>user_id</th>\n",
       "      <th>user_name</th>\n",
       "      <th>month</th>\n",
       "      <th>minutes_used</th>\n",
       "    </tr>\n",
       "  </thead>\n",
       "  <tbody>\n",
       "    <tr>\n",
       "      <th>0</th>\n",
       "      <td>1000</td>\n",
       "      <td>ANAMARIA BAUER</td>\n",
       "      <td>12</td>\n",
       "      <td>124</td>\n",
       "    </tr>\n",
       "    <tr>\n",
       "      <th>1</th>\n",
       "      <td>1001</td>\n",
       "      <td>MICKEY WILKERSON</td>\n",
       "      <td>8</td>\n",
       "      <td>182</td>\n",
       "    </tr>\n",
       "    <tr>\n",
       "      <th>2</th>\n",
       "      <td>1001</td>\n",
       "      <td>MICKEY WILKERSON</td>\n",
       "      <td>9</td>\n",
       "      <td>315</td>\n",
       "    </tr>\n",
       "    <tr>\n",
       "      <th>3</th>\n",
       "      <td>1001</td>\n",
       "      <td>MICKEY WILKERSON</td>\n",
       "      <td>10</td>\n",
       "      <td>393</td>\n",
       "    </tr>\n",
       "    <tr>\n",
       "      <th>4</th>\n",
       "      <td>1001</td>\n",
       "      <td>MICKEY WILKERSON</td>\n",
       "      <td>11</td>\n",
       "      <td>426</td>\n",
       "    </tr>\n",
       "    <tr>\n",
       "      <th>...</th>\n",
       "      <td>...</td>\n",
       "      <td>...</td>\n",
       "      <td>...</td>\n",
       "      <td>...</td>\n",
       "    </tr>\n",
       "    <tr>\n",
       "      <th>2253</th>\n",
       "      <td>1498</td>\n",
       "      <td>SCOT WILLIAMSON</td>\n",
       "      <td>12</td>\n",
       "      <td>339</td>\n",
       "    </tr>\n",
       "    <tr>\n",
       "      <th>2254</th>\n",
       "      <td>1499</td>\n",
       "      <td>SHENA DICKSON</td>\n",
       "      <td>9</td>\n",
       "      <td>346</td>\n",
       "    </tr>\n",
       "    <tr>\n",
       "      <th>2255</th>\n",
       "      <td>1499</td>\n",
       "      <td>SHENA DICKSON</td>\n",
       "      <td>10</td>\n",
       "      <td>385</td>\n",
       "    </tr>\n",
       "    <tr>\n",
       "      <th>2256</th>\n",
       "      <td>1499</td>\n",
       "      <td>SHENA DICKSON</td>\n",
       "      <td>11</td>\n",
       "      <td>308</td>\n",
       "    </tr>\n",
       "    <tr>\n",
       "      <th>2257</th>\n",
       "      <td>1499</td>\n",
       "      <td>SHENA DICKSON</td>\n",
       "      <td>12</td>\n",
       "      <td>496</td>\n",
       "    </tr>\n",
       "  </tbody>\n",
       "</table>\n",
       "<p>2258 rows × 4 columns</p>\n",
       "</div>"
      ],
      "text/plain": [
       "     user_id         user_name  month  minutes_used\n",
       "0       1000    ANAMARIA BAUER     12           124\n",
       "1       1001  MICKEY WILKERSON      8           182\n",
       "2       1001  MICKEY WILKERSON      9           315\n",
       "3       1001  MICKEY WILKERSON     10           393\n",
       "4       1001  MICKEY WILKERSON     11           426\n",
       "...      ...               ...    ...           ...\n",
       "2253    1498   SCOT WILLIAMSON     12           339\n",
       "2254    1499     SHENA DICKSON      9           346\n",
       "2255    1499     SHENA DICKSON     10           385\n",
       "2256    1499     SHENA DICKSON     11           308\n",
       "2257    1499     SHENA DICKSON     12           496\n",
       "\n",
       "[2258 rows x 4 columns]"
      ]
     },
     "execution_count": 57,
     "metadata": {},
     "output_type": "execute_result"
    }
   ],
   "source": [
    "# Calculo la cantidad de minutos que se le cobraron a cada usuario al mes. Guarda el resultado.\n",
    "# Aquí el cálculo ya lo hice con base en los minutos redondeados hacia arriba.\n",
    "df_minutes_month = df_calls_names.groupby(['user_id', 'user_name', df_calls_names['call_date'].dt.month])['minutes_charged'].sum()\n",
    "df_minutes_month = df_minutes_month.reset_index()\n",
    "df_minutes_month = df_minutes_month.rename(columns={'minutes_charged': 'minutes_used', 'call_date': 'month'})\n",
    "df_minutes_month['user_id'] = df_minutes_month['user_id'].astype(str)\n",
    "df_minutes_month['minutes_used'] = df_minutes_month['minutes_used'].astype(int)\n",
    "df_minutes_month\n"
   ]
  },
  {
   "cell_type": "markdown",
   "metadata": {
    "id": "yO4sqD7BVZtJ"
   },
   "source": [
    "**MENSAJES ENVIADOS AL MES POR USUARIO**"
   ]
  },
  {
   "cell_type": "code",
   "execution_count": 38,
   "metadata": {
    "colab": {
     "base_uri": "https://localhost:8080/",
     "height": 424
    },
    "id": "CcQvNHn60q1G",
    "outputId": "70d87bee-1880-4542-9bb5-882c2db20832"
   },
   "outputs": [
    {
     "data": {
      "text/html": [
       "<div>\n",
       "<style scoped>\n",
       "    .dataframe tbody tr th:only-of-type {\n",
       "        vertical-align: middle;\n",
       "    }\n",
       "\n",
       "    .dataframe tbody tr th {\n",
       "        vertical-align: top;\n",
       "    }\n",
       "\n",
       "    .dataframe thead th {\n",
       "        text-align: right;\n",
       "    }\n",
       "</style>\n",
       "<table border=\"1\" class=\"dataframe\">\n",
       "  <thead>\n",
       "    <tr style=\"text-align: right;\">\n",
       "      <th></th>\n",
       "      <th>user_id</th>\n",
       "      <th>user_name</th>\n",
       "      <th>month</th>\n",
       "      <th>messages</th>\n",
       "    </tr>\n",
       "  </thead>\n",
       "  <tbody>\n",
       "    <tr>\n",
       "      <th>0</th>\n",
       "      <td>1000</td>\n",
       "      <td>ANAMARIA BAUER</td>\n",
       "      <td>12</td>\n",
       "      <td>11</td>\n",
       "    </tr>\n",
       "    <tr>\n",
       "      <th>1</th>\n",
       "      <td>1001</td>\n",
       "      <td>MICKEY WILKERSON</td>\n",
       "      <td>8</td>\n",
       "      <td>30</td>\n",
       "    </tr>\n",
       "    <tr>\n",
       "      <th>2</th>\n",
       "      <td>1001</td>\n",
       "      <td>MICKEY WILKERSON</td>\n",
       "      <td>9</td>\n",
       "      <td>44</td>\n",
       "    </tr>\n",
       "    <tr>\n",
       "      <th>3</th>\n",
       "      <td>1001</td>\n",
       "      <td>MICKEY WILKERSON</td>\n",
       "      <td>10</td>\n",
       "      <td>53</td>\n",
       "    </tr>\n",
       "    <tr>\n",
       "      <th>4</th>\n",
       "      <td>1001</td>\n",
       "      <td>MICKEY WILKERSON</td>\n",
       "      <td>11</td>\n",
       "      <td>36</td>\n",
       "    </tr>\n",
       "    <tr>\n",
       "      <th>...</th>\n",
       "      <td>...</td>\n",
       "      <td>...</td>\n",
       "      <td>...</td>\n",
       "      <td>...</td>\n",
       "    </tr>\n",
       "    <tr>\n",
       "      <th>1801</th>\n",
       "      <td>1496</td>\n",
       "      <td>ARIEL SHEPHERD</td>\n",
       "      <td>9</td>\n",
       "      <td>21</td>\n",
       "    </tr>\n",
       "    <tr>\n",
       "      <th>1802</th>\n",
       "      <td>1496</td>\n",
       "      <td>ARIEL SHEPHERD</td>\n",
       "      <td>10</td>\n",
       "      <td>18</td>\n",
       "    </tr>\n",
       "    <tr>\n",
       "      <th>1803</th>\n",
       "      <td>1496</td>\n",
       "      <td>ARIEL SHEPHERD</td>\n",
       "      <td>11</td>\n",
       "      <td>13</td>\n",
       "    </tr>\n",
       "    <tr>\n",
       "      <th>1804</th>\n",
       "      <td>1496</td>\n",
       "      <td>ARIEL SHEPHERD</td>\n",
       "      <td>12</td>\n",
       "      <td>11</td>\n",
       "    </tr>\n",
       "    <tr>\n",
       "      <th>1805</th>\n",
       "      <td>1497</td>\n",
       "      <td>DONTE BARRERA</td>\n",
       "      <td>12</td>\n",
       "      <td>50</td>\n",
       "    </tr>\n",
       "  </tbody>\n",
       "</table>\n",
       "<p>1806 rows × 4 columns</p>\n",
       "</div>"
      ],
      "text/plain": [
       "     user_id         user_name  month  messages\n",
       "0       1000    ANAMARIA BAUER     12        11\n",
       "1       1001  MICKEY WILKERSON      8        30\n",
       "2       1001  MICKEY WILKERSON      9        44\n",
       "3       1001  MICKEY WILKERSON     10        53\n",
       "4       1001  MICKEY WILKERSON     11        36\n",
       "...      ...               ...    ...       ...\n",
       "1801    1496    ARIEL SHEPHERD      9        21\n",
       "1802    1496    ARIEL SHEPHERD     10        18\n",
       "1803    1496    ARIEL SHEPHERD     11        13\n",
       "1804    1496    ARIEL SHEPHERD     12        11\n",
       "1805    1497     DONTE BARRERA     12        50\n",
       "\n",
       "[1806 rows x 4 columns]"
      ]
     },
     "execution_count": 38,
     "metadata": {},
     "output_type": "execute_result"
    }
   ],
   "source": [
    "# Dentro del df messages creo una columna llamada month, extraída de la columna de la fecha del mismo df.\n",
    "df_messages[\"month\"] = df_messages[\"message_date\"].dt.month\n",
    "\n",
    "# Calculo el número de mensajes enviados por cada usuario al mes. Y guardo el resultado.\n",
    "df_messages_names = pd.merge(df_users, df_messages, on='user_id')\n",
    "df_messages_month = df_messages_names.groupby(['user_id', 'user_name', 'month'])['month'].count().reset_index(name='messages')\n",
    "df_messages_month['user_id'] = df_messages_month['user_id'].astype(str)\n",
    "df_messages_month\n"
   ]
  },
  {
   "cell_type": "markdown",
   "metadata": {
    "id": "skBZMVVJVygS"
   },
   "source": [
    "**DATOS UTILIZADOS POR USUARIO AL MES**"
   ]
  },
  {
   "cell_type": "code",
   "execution_count": 39,
   "metadata": {
    "colab": {
     "base_uri": "https://localhost:8080/",
     "height": 424
    },
    "id": "H1AqN2eG0q1H",
    "outputId": "af184b3f-3076-4255-e37d-60735c238761"
   },
   "outputs": [
    {
     "data": {
      "text/html": [
       "<div>\n",
       "<style scoped>\n",
       "    .dataframe tbody tr th:only-of-type {\n",
       "        vertical-align: middle;\n",
       "    }\n",
       "\n",
       "    .dataframe tbody tr th {\n",
       "        vertical-align: top;\n",
       "    }\n",
       "\n",
       "    .dataframe thead th {\n",
       "        text-align: right;\n",
       "    }\n",
       "</style>\n",
       "<table border=\"1\" class=\"dataframe\">\n",
       "  <thead>\n",
       "    <tr style=\"text-align: right;\">\n",
       "      <th></th>\n",
       "      <th>user_id</th>\n",
       "      <th>user_name</th>\n",
       "      <th>month</th>\n",
       "      <th>plan</th>\n",
       "      <th>mb_used</th>\n",
       "      <th>data_in_gb</th>\n",
       "    </tr>\n",
       "  </thead>\n",
       "  <tbody>\n",
       "    <tr>\n",
       "      <th>0</th>\n",
       "      <td>1000</td>\n",
       "      <td>ANAMARIA BAUER</td>\n",
       "      <td>12</td>\n",
       "      <td>ultimate</td>\n",
       "      <td>1901.47</td>\n",
       "      <td>2</td>\n",
       "    </tr>\n",
       "    <tr>\n",
       "      <th>1</th>\n",
       "      <td>1001</td>\n",
       "      <td>MICKEY WILKERSON</td>\n",
       "      <td>8</td>\n",
       "      <td>surf</td>\n",
       "      <td>6919.15</td>\n",
       "      <td>7</td>\n",
       "    </tr>\n",
       "    <tr>\n",
       "      <th>2</th>\n",
       "      <td>1001</td>\n",
       "      <td>MICKEY WILKERSON</td>\n",
       "      <td>9</td>\n",
       "      <td>surf</td>\n",
       "      <td>13314.82</td>\n",
       "      <td>14</td>\n",
       "    </tr>\n",
       "    <tr>\n",
       "      <th>3</th>\n",
       "      <td>1001</td>\n",
       "      <td>MICKEY WILKERSON</td>\n",
       "      <td>10</td>\n",
       "      <td>surf</td>\n",
       "      <td>22330.49</td>\n",
       "      <td>22</td>\n",
       "    </tr>\n",
       "    <tr>\n",
       "      <th>4</th>\n",
       "      <td>1001</td>\n",
       "      <td>MICKEY WILKERSON</td>\n",
       "      <td>11</td>\n",
       "      <td>surf</td>\n",
       "      <td>18504.30</td>\n",
       "      <td>19</td>\n",
       "    </tr>\n",
       "    <tr>\n",
       "      <th>...</th>\n",
       "      <td>...</td>\n",
       "      <td>...</td>\n",
       "      <td>...</td>\n",
       "      <td>...</td>\n",
       "      <td>...</td>\n",
       "      <td>...</td>\n",
       "    </tr>\n",
       "    <tr>\n",
       "      <th>2272</th>\n",
       "      <td>1498</td>\n",
       "      <td>SCOT WILLIAMSON</td>\n",
       "      <td>12</td>\n",
       "      <td>surf</td>\n",
       "      <td>23137.69</td>\n",
       "      <td>23</td>\n",
       "    </tr>\n",
       "    <tr>\n",
       "      <th>2273</th>\n",
       "      <td>1499</td>\n",
       "      <td>SHENA DICKSON</td>\n",
       "      <td>9</td>\n",
       "      <td>surf</td>\n",
       "      <td>12984.76</td>\n",
       "      <td>13</td>\n",
       "    </tr>\n",
       "    <tr>\n",
       "      <th>2274</th>\n",
       "      <td>1499</td>\n",
       "      <td>SHENA DICKSON</td>\n",
       "      <td>10</td>\n",
       "      <td>surf</td>\n",
       "      <td>19492.43</td>\n",
       "      <td>20</td>\n",
       "    </tr>\n",
       "    <tr>\n",
       "      <th>2275</th>\n",
       "      <td>1499</td>\n",
       "      <td>SHENA DICKSON</td>\n",
       "      <td>11</td>\n",
       "      <td>surf</td>\n",
       "      <td>16813.83</td>\n",
       "      <td>17</td>\n",
       "    </tr>\n",
       "    <tr>\n",
       "      <th>2276</th>\n",
       "      <td>1499</td>\n",
       "      <td>SHENA DICKSON</td>\n",
       "      <td>12</td>\n",
       "      <td>surf</td>\n",
       "      <td>22059.21</td>\n",
       "      <td>22</td>\n",
       "    </tr>\n",
       "  </tbody>\n",
       "</table>\n",
       "<p>2277 rows × 6 columns</p>\n",
       "</div>"
      ],
      "text/plain": [
       "     user_id         user_name  month      plan   mb_used  data_in_gb\n",
       "0       1000    ANAMARIA BAUER     12  ultimate   1901.47           2\n",
       "1       1001  MICKEY WILKERSON      8      surf   6919.15           7\n",
       "2       1001  MICKEY WILKERSON      9      surf  13314.82          14\n",
       "3       1001  MICKEY WILKERSON     10      surf  22330.49          22\n",
       "4       1001  MICKEY WILKERSON     11      surf  18504.30          19\n",
       "...      ...               ...    ...       ...       ...         ...\n",
       "2272    1498   SCOT WILLIAMSON     12      surf  23137.69          23\n",
       "2273    1499     SHENA DICKSON      9      surf  12984.76          13\n",
       "2274    1499     SHENA DICKSON     10      surf  19492.43          20\n",
       "2275    1499     SHENA DICKSON     11      surf  16813.83          17\n",
       "2276    1499     SHENA DICKSON     12      surf  22059.21          22\n",
       "\n",
       "[2277 rows x 6 columns]"
      ]
     },
     "execution_count": 39,
     "metadata": {},
     "output_type": "execute_result"
    }
   ],
   "source": [
    "# Combino los dos df para tener el nombre del usuario.\n",
    "df_users['user_id'] = df_users['user_id'].astype(int)\n",
    "df_internet['user_id'] = df_internet['user_id'].astype(int)\n",
    "df_internet_names = pd.merge(df_users, df_internet, on='user_id')\n",
    "\n",
    "# Creo la columna month a partir de la columna de la fecha.\n",
    "df_internet_names['month'] = df_internet_names['session_date'].dt.month\n",
    "\n",
    "# Calculo el volumen del tráfico de Internet usado por cada usuario al mes. Guardo el resultado.\n",
    "\n",
    "df_internet_month = df_internet_names.groupby(['user_id', 'user_name', 'month', 'plan'])['mb_used'].sum()\n",
    "df_internet_month = df_internet_month.reset_index()\n",
    "\n",
    "# Calculo el total de GB que se le cobraron a cada cliente por mes, dividiendo los mb entre 1024 y redondeando el resultado hacia arriba.\n",
    "\n",
    "df_internet_month[\"data_in_gb\"] = np.ceil(df_internet_month[\"mb_used\"] / 1024).astype(int)\n",
    "df_internet_month['user_id'] = df_internet_month['user_id'].astype(str)\n",
    "df_internet_month"
   ]
  },
  {
   "cell_type": "markdown",
   "metadata": {
    "id": "vY4wyhdh6CdA"
   },
   "source": [
    "<div class=\"alert alert-block alert-info\">\n",
    "<b>Comentario del alumno (2da Iteración) </b> <a class=“tocSkip”></a>\n",
    "\n",
    "Aquí estaba el problema con los GB, le agregué la función np.ceil() que me muestra el float redondeado para arriba, luego sólo lo convertí a int.\n",
    "</div>"
   ]
  },
  {
   "cell_type": "markdown",
   "metadata": {
    "id": "VDfYXnj80q1H"
   },
   "source": [
    "[Junta los datos agregados en un DataFrame para que haya un registro que represente lo que consumió un usuario único en un mes determinado.]"
   ]
  },
  {
   "cell_type": "code",
   "execution_count": 40,
   "metadata": {
    "colab": {
     "base_uri": "https://localhost:8080/",
     "height": 424
    },
    "id": "FW99ykyf0q1H",
    "outputId": "54e937b0-bd6b-4777-c72c-8340cc528b60"
   },
   "outputs": [
    {
     "data": {
      "text/html": [
       "<div>\n",
       "<style scoped>\n",
       "    .dataframe tbody tr th:only-of-type {\n",
       "        vertical-align: middle;\n",
       "    }\n",
       "\n",
       "    .dataframe tbody tr th {\n",
       "        vertical-align: top;\n",
       "    }\n",
       "\n",
       "    .dataframe thead th {\n",
       "        text-align: right;\n",
       "    }\n",
       "</style>\n",
       "<table border=\"1\" class=\"dataframe\">\n",
       "  <thead>\n",
       "    <tr style=\"text-align: right;\">\n",
       "      <th></th>\n",
       "      <th>user_id</th>\n",
       "      <th>user_name</th>\n",
       "      <th>month</th>\n",
       "      <th>calls</th>\n",
       "      <th>minutes_used</th>\n",
       "      <th>messages</th>\n",
       "      <th>plan</th>\n",
       "      <th>mb_used</th>\n",
       "      <th>data_in_gb</th>\n",
       "    </tr>\n",
       "  </thead>\n",
       "  <tbody>\n",
       "    <tr>\n",
       "      <th>0</th>\n",
       "      <td>1000</td>\n",
       "      <td>ANAMARIA BAUER</td>\n",
       "      <td>12</td>\n",
       "      <td>16</td>\n",
       "      <td>124</td>\n",
       "      <td>11</td>\n",
       "      <td>ultimate</td>\n",
       "      <td>1901.47</td>\n",
       "      <td>2</td>\n",
       "    </tr>\n",
       "    <tr>\n",
       "      <th>1</th>\n",
       "      <td>1001</td>\n",
       "      <td>MICKEY WILKERSON</td>\n",
       "      <td>8</td>\n",
       "      <td>27</td>\n",
       "      <td>182</td>\n",
       "      <td>30</td>\n",
       "      <td>surf</td>\n",
       "      <td>6919.15</td>\n",
       "      <td>7</td>\n",
       "    </tr>\n",
       "    <tr>\n",
       "      <th>2</th>\n",
       "      <td>1001</td>\n",
       "      <td>MICKEY WILKERSON</td>\n",
       "      <td>9</td>\n",
       "      <td>49</td>\n",
       "      <td>315</td>\n",
       "      <td>44</td>\n",
       "      <td>surf</td>\n",
       "      <td>13314.82</td>\n",
       "      <td>14</td>\n",
       "    </tr>\n",
       "    <tr>\n",
       "      <th>3</th>\n",
       "      <td>1001</td>\n",
       "      <td>MICKEY WILKERSON</td>\n",
       "      <td>10</td>\n",
       "      <td>65</td>\n",
       "      <td>393</td>\n",
       "      <td>53</td>\n",
       "      <td>surf</td>\n",
       "      <td>22330.49</td>\n",
       "      <td>22</td>\n",
       "    </tr>\n",
       "    <tr>\n",
       "      <th>4</th>\n",
       "      <td>1001</td>\n",
       "      <td>MICKEY WILKERSON</td>\n",
       "      <td>11</td>\n",
       "      <td>64</td>\n",
       "      <td>426</td>\n",
       "      <td>36</td>\n",
       "      <td>surf</td>\n",
       "      <td>18504.30</td>\n",
       "      <td>19</td>\n",
       "    </tr>\n",
       "    <tr>\n",
       "      <th>...</th>\n",
       "      <td>...</td>\n",
       "      <td>...</td>\n",
       "      <td>...</td>\n",
       "      <td>...</td>\n",
       "      <td>...</td>\n",
       "      <td>...</td>\n",
       "      <td>...</td>\n",
       "      <td>...</td>\n",
       "      <td>...</td>\n",
       "    </tr>\n",
       "    <tr>\n",
       "      <th>2288</th>\n",
       "      <td>1349</td>\n",
       "      <td>FLORENTINA DIAZ</td>\n",
       "      <td>12</td>\n",
       "      <td>0</td>\n",
       "      <td>0</td>\n",
       "      <td>61</td>\n",
       "      <td>surf</td>\n",
       "      <td>13039.91</td>\n",
       "      <td>13</td>\n",
       "    </tr>\n",
       "    <tr>\n",
       "      <th>2289</th>\n",
       "      <td>1361</td>\n",
       "      <td>JACELYN HOFFMAN</td>\n",
       "      <td>5</td>\n",
       "      <td>0</td>\n",
       "      <td>0</td>\n",
       "      <td>2</td>\n",
       "      <td>surf</td>\n",
       "      <td>1519.69</td>\n",
       "      <td>2</td>\n",
       "    </tr>\n",
       "    <tr>\n",
       "      <th>2290</th>\n",
       "      <td>1482</td>\n",
       "      <td>ARMAND GLENN</td>\n",
       "      <td>10</td>\n",
       "      <td>0</td>\n",
       "      <td>0</td>\n",
       "      <td>2</td>\n",
       "      <td>0</td>\n",
       "      <td>0.00</td>\n",
       "      <td>0</td>\n",
       "    </tr>\n",
       "    <tr>\n",
       "      <th>2291</th>\n",
       "      <td>1108</td>\n",
       "      <td>PORFIRIO KANE</td>\n",
       "      <td>12</td>\n",
       "      <td>0</td>\n",
       "      <td>0</td>\n",
       "      <td>0</td>\n",
       "      <td>ultimate</td>\n",
       "      <td>233.17</td>\n",
       "      <td>1</td>\n",
       "    </tr>\n",
       "    <tr>\n",
       "      <th>2292</th>\n",
       "      <td>1311</td>\n",
       "      <td>CHERLYN SAUNDERS</td>\n",
       "      <td>6</td>\n",
       "      <td>0</td>\n",
       "      <td>0</td>\n",
       "      <td>0</td>\n",
       "      <td>ultimate</td>\n",
       "      <td>1498.83</td>\n",
       "      <td>2</td>\n",
       "    </tr>\n",
       "  </tbody>\n",
       "</table>\n",
       "<p>2293 rows × 9 columns</p>\n",
       "</div>"
      ],
      "text/plain": [
       "     user_id         user_name  month  calls  minutes_used  messages  \\\n",
       "0       1000    ANAMARIA BAUER     12     16           124        11   \n",
       "1       1001  MICKEY WILKERSON      8     27           182        30   \n",
       "2       1001  MICKEY WILKERSON      9     49           315        44   \n",
       "3       1001  MICKEY WILKERSON     10     65           393        53   \n",
       "4       1001  MICKEY WILKERSON     11     64           426        36   \n",
       "...      ...               ...    ...    ...           ...       ...   \n",
       "2288    1349   FLORENTINA DIAZ     12      0             0        61   \n",
       "2289    1361   JACELYN HOFFMAN      5      0             0         2   \n",
       "2290    1482      ARMAND GLENN     10      0             0         2   \n",
       "2291    1108     PORFIRIO KANE     12      0             0         0   \n",
       "2292    1311  CHERLYN SAUNDERS      6      0             0         0   \n",
       "\n",
       "          plan   mb_used  data_in_gb  \n",
       "0     ultimate   1901.47           2  \n",
       "1         surf   6919.15           7  \n",
       "2         surf  13314.82          14  \n",
       "3         surf  22330.49          22  \n",
       "4         surf  18504.30          19  \n",
       "...        ...       ...         ...  \n",
       "2288      surf  13039.91          13  \n",
       "2289      surf   1519.69           2  \n",
       "2290         0      0.00           0  \n",
       "2291  ultimate    233.17           1  \n",
       "2292  ultimate   1498.83           2  \n",
       "\n",
       "[2293 rows x 9 columns]"
      ]
     },
     "execution_count": 40,
     "metadata": {},
     "output_type": "execute_result"
    }
   ],
   "source": [
    "# Fusiona los datos de llamadas, minutos, mensajes e Internet con base en user_id y month\n",
    "\n",
    "users_merged_df = pd.merge(df_calls_month, df_minutes_month, on=['user_id', 'user_name', 'month'], how='outer')\n",
    "users_merged_df = pd.merge(users_merged_df, df_messages_month, on=['user_id', 'user_name', 'month'], how='outer')\n",
    "users_merged_df = pd.merge(users_merged_df, df_internet_month, on=['user_id', 'user_name', 'month'], how='outer')\n",
    "\n",
    "# Reemplazo valores perdidos y cambio los tipos de las columnas.\n",
    "users_merged_df.fillna(0, inplace=True)\n",
    "users_merged_df['calls'] = users_merged_df['calls'].astype(int)\n",
    "users_merged_df['messages'] = users_merged_df['messages'].astype(int)\n",
    "users_merged_df['minutes_used'] = users_merged_df['minutes_used'].astype(int)\n",
    "users_merged_df['data_in_gb'] = users_merged_df['data_in_gb'].astype(int)\n",
    "users_merged_df"
   ]
  },
  {
   "cell_type": "markdown",
   "metadata": {
    "id": "NaqZv3v4nUss"
   },
   "source": [
    "<div class=\"alert alert-block alert-success\">\n",
    "<b>Comentario del revisor (1ra Iteración)</b> <a class=“tocSkip”></a>\n",
    "    \n",
    "Juan Carlos muy buen uso de las funciones `merge` y `groupby`\n",
    "\n",
    "</div>"
   ]
  },
  {
   "cell_type": "code",
   "execution_count": 41,
   "metadata": {
    "colab": {
     "base_uri": "https://localhost:8080/",
     "height": 145
    },
    "id": "mQmVn7cJa2X4",
    "outputId": "27713cc0-4463-4519-a72e-e0e5a8264830"
   },
   "outputs": [
    {
     "data": {
      "text/html": [
       "<div>\n",
       "<style scoped>\n",
       "    .dataframe tbody tr th:only-of-type {\n",
       "        vertical-align: middle;\n",
       "    }\n",
       "\n",
       "    .dataframe tbody tr th {\n",
       "        vertical-align: top;\n",
       "    }\n",
       "\n",
       "    .dataframe thead th {\n",
       "        text-align: right;\n",
       "    }\n",
       "</style>\n",
       "<table border=\"1\" class=\"dataframe\">\n",
       "  <thead>\n",
       "    <tr style=\"text-align: right;\">\n",
       "      <th></th>\n",
       "      <th>plan</th>\n",
       "      <th>usd_monthly_pay</th>\n",
       "      <th>gb_per_month_included</th>\n",
       "      <th>mb_per_month_included</th>\n",
       "      <th>minutes_included</th>\n",
       "      <th>messages_included</th>\n",
       "      <th>usd_per_gb</th>\n",
       "      <th>usd_per_minute</th>\n",
       "      <th>usd_per_message</th>\n",
       "    </tr>\n",
       "  </thead>\n",
       "  <tbody>\n",
       "    <tr>\n",
       "      <th>0</th>\n",
       "      <td>surf</td>\n",
       "      <td>20</td>\n",
       "      <td>15</td>\n",
       "      <td>15360</td>\n",
       "      <td>500</td>\n",
       "      <td>50</td>\n",
       "      <td>10</td>\n",
       "      <td>0.03</td>\n",
       "      <td>0.03</td>\n",
       "    </tr>\n",
       "    <tr>\n",
       "      <th>1</th>\n",
       "      <td>ultimate</td>\n",
       "      <td>70</td>\n",
       "      <td>30</td>\n",
       "      <td>30720</td>\n",
       "      <td>3000</td>\n",
       "      <td>1000</td>\n",
       "      <td>7</td>\n",
       "      <td>0.01</td>\n",
       "      <td>0.01</td>\n",
       "    </tr>\n",
       "  </tbody>\n",
       "</table>\n",
       "</div>"
      ],
      "text/plain": [
       "       plan  usd_monthly_pay  gb_per_month_included  mb_per_month_included  \\\n",
       "0      surf               20                     15                  15360   \n",
       "1  ultimate               70                     30                  30720   \n",
       "\n",
       "   minutes_included  messages_included  usd_per_gb  usd_per_minute  \\\n",
       "0               500                 50          10            0.03   \n",
       "1              3000               1000           7            0.01   \n",
       "\n",
       "   usd_per_message  \n",
       "0             0.03  \n",
       "1             0.01  "
      ]
     },
     "execution_count": 41,
     "metadata": {},
     "output_type": "execute_result"
    }
   ],
   "source": [
    "df_plans['gb_per_month_included'] = df_plans['gb_per_month_included'].astype(int)\n",
    "df_plans"
   ]
  },
  {
   "cell_type": "code",
   "execution_count": 42,
   "metadata": {
    "colab": {
     "base_uri": "https://localhost:8080/",
     "height": 617
    },
    "id": "0dNOXHag0q1H",
    "outputId": "2a7c0184-776c-4b72-83a0-2c9d50e81a54"
   },
   "outputs": [
    {
     "data": {
      "text/html": [
       "<div>\n",
       "<style scoped>\n",
       "    .dataframe tbody tr th:only-of-type {\n",
       "        vertical-align: middle;\n",
       "    }\n",
       "\n",
       "    .dataframe tbody tr th {\n",
       "        vertical-align: top;\n",
       "    }\n",
       "\n",
       "    .dataframe thead th {\n",
       "        text-align: right;\n",
       "    }\n",
       "</style>\n",
       "<table border=\"1\" class=\"dataframe\">\n",
       "  <thead>\n",
       "    <tr style=\"text-align: right;\">\n",
       "      <th></th>\n",
       "      <th>user_id</th>\n",
       "      <th>user_name</th>\n",
       "      <th>month</th>\n",
       "      <th>calls</th>\n",
       "      <th>minutes_used</th>\n",
       "      <th>messages</th>\n",
       "      <th>plan</th>\n",
       "      <th>mb_used</th>\n",
       "      <th>data_in_gb</th>\n",
       "      <th>usd_monthly_pay</th>\n",
       "      <th>gb_per_month_included</th>\n",
       "      <th>mb_per_month_included</th>\n",
       "      <th>minutes_included</th>\n",
       "      <th>messages_included</th>\n",
       "      <th>usd_per_gb</th>\n",
       "      <th>usd_per_minute</th>\n",
       "      <th>usd_per_message</th>\n",
       "    </tr>\n",
       "  </thead>\n",
       "  <tbody>\n",
       "    <tr>\n",
       "      <th>0</th>\n",
       "      <td>1000</td>\n",
       "      <td>ANAMARIA BAUER</td>\n",
       "      <td>12</td>\n",
       "      <td>16</td>\n",
       "      <td>124</td>\n",
       "      <td>11</td>\n",
       "      <td>ultimate</td>\n",
       "      <td>1901.47</td>\n",
       "      <td>2</td>\n",
       "      <td>70</td>\n",
       "      <td>30</td>\n",
       "      <td>30720</td>\n",
       "      <td>3000</td>\n",
       "      <td>1000</td>\n",
       "      <td>7</td>\n",
       "      <td>0.01</td>\n",
       "      <td>0.01</td>\n",
       "    </tr>\n",
       "    <tr>\n",
       "      <th>1</th>\n",
       "      <td>1006</td>\n",
       "      <td>JESUSA BRADFORD</td>\n",
       "      <td>11</td>\n",
       "      <td>2</td>\n",
       "      <td>10</td>\n",
       "      <td>15</td>\n",
       "      <td>ultimate</td>\n",
       "      <td>2068.37</td>\n",
       "      <td>3</td>\n",
       "      <td>70</td>\n",
       "      <td>30</td>\n",
       "      <td>30720</td>\n",
       "      <td>3000</td>\n",
       "      <td>1000</td>\n",
       "      <td>7</td>\n",
       "      <td>0.01</td>\n",
       "      <td>0.01</td>\n",
       "    </tr>\n",
       "    <tr>\n",
       "      <th>2</th>\n",
       "      <td>1006</td>\n",
       "      <td>JESUSA BRADFORD</td>\n",
       "      <td>12</td>\n",
       "      <td>9</td>\n",
       "      <td>59</td>\n",
       "      <td>139</td>\n",
       "      <td>ultimate</td>\n",
       "      <td>32118.82</td>\n",
       "      <td>32</td>\n",
       "      <td>70</td>\n",
       "      <td>30</td>\n",
       "      <td>30720</td>\n",
       "      <td>3000</td>\n",
       "      <td>1000</td>\n",
       "      <td>7</td>\n",
       "      <td>0.01</td>\n",
       "      <td>0.01</td>\n",
       "    </tr>\n",
       "    <tr>\n",
       "      <th>3</th>\n",
       "      <td>1008</td>\n",
       "      <td>EMELY HOFFMAN</td>\n",
       "      <td>10</td>\n",
       "      <td>71</td>\n",
       "      <td>476</td>\n",
       "      <td>21</td>\n",
       "      <td>ultimate</td>\n",
       "      <td>17106.99</td>\n",
       "      <td>17</td>\n",
       "      <td>70</td>\n",
       "      <td>30</td>\n",
       "      <td>30720</td>\n",
       "      <td>3000</td>\n",
       "      <td>1000</td>\n",
       "      <td>7</td>\n",
       "      <td>0.01</td>\n",
       "      <td>0.01</td>\n",
       "    </tr>\n",
       "    <tr>\n",
       "      <th>4</th>\n",
       "      <td>1008</td>\n",
       "      <td>EMELY HOFFMAN</td>\n",
       "      <td>11</td>\n",
       "      <td>63</td>\n",
       "      <td>446</td>\n",
       "      <td>37</td>\n",
       "      <td>ultimate</td>\n",
       "      <td>23676.72</td>\n",
       "      <td>24</td>\n",
       "      <td>70</td>\n",
       "      <td>30</td>\n",
       "      <td>30720</td>\n",
       "      <td>3000</td>\n",
       "      <td>1000</td>\n",
       "      <td>7</td>\n",
       "      <td>0.01</td>\n",
       "      <td>0.01</td>\n",
       "    </tr>\n",
       "    <tr>\n",
       "      <th>...</th>\n",
       "      <td>...</td>\n",
       "      <td>...</td>\n",
       "      <td>...</td>\n",
       "      <td>...</td>\n",
       "      <td>...</td>\n",
       "      <td>...</td>\n",
       "      <td>...</td>\n",
       "      <td>...</td>\n",
       "      <td>...</td>\n",
       "      <td>...</td>\n",
       "      <td>...</td>\n",
       "      <td>...</td>\n",
       "      <td>...</td>\n",
       "      <td>...</td>\n",
       "      <td>...</td>\n",
       "      <td>...</td>\n",
       "      <td>...</td>\n",
       "    </tr>\n",
       "    <tr>\n",
       "      <th>2272</th>\n",
       "      <td>1194</td>\n",
       "      <td>ROBERT MCLEAN</td>\n",
       "      <td>12</td>\n",
       "      <td>0</td>\n",
       "      <td>0</td>\n",
       "      <td>56</td>\n",
       "      <td>surf</td>\n",
       "      <td>31088.49</td>\n",
       "      <td>31</td>\n",
       "      <td>20</td>\n",
       "      <td>15</td>\n",
       "      <td>15360</td>\n",
       "      <td>500</td>\n",
       "      <td>50</td>\n",
       "      <td>10</td>\n",
       "      <td>0.03</td>\n",
       "      <td>0.03</td>\n",
       "    </tr>\n",
       "    <tr>\n",
       "      <th>2273</th>\n",
       "      <td>1349</td>\n",
       "      <td>FLORENTINA DIAZ</td>\n",
       "      <td>10</td>\n",
       "      <td>0</td>\n",
       "      <td>0</td>\n",
       "      <td>76</td>\n",
       "      <td>surf</td>\n",
       "      <td>13093.55</td>\n",
       "      <td>13</td>\n",
       "      <td>20</td>\n",
       "      <td>15</td>\n",
       "      <td>15360</td>\n",
       "      <td>500</td>\n",
       "      <td>50</td>\n",
       "      <td>10</td>\n",
       "      <td>0.03</td>\n",
       "      <td>0.03</td>\n",
       "    </tr>\n",
       "    <tr>\n",
       "      <th>2274</th>\n",
       "      <td>1349</td>\n",
       "      <td>FLORENTINA DIAZ</td>\n",
       "      <td>11</td>\n",
       "      <td>0</td>\n",
       "      <td>0</td>\n",
       "      <td>72</td>\n",
       "      <td>surf</td>\n",
       "      <td>17128.26</td>\n",
       "      <td>17</td>\n",
       "      <td>20</td>\n",
       "      <td>15</td>\n",
       "      <td>15360</td>\n",
       "      <td>500</td>\n",
       "      <td>50</td>\n",
       "      <td>10</td>\n",
       "      <td>0.03</td>\n",
       "      <td>0.03</td>\n",
       "    </tr>\n",
       "    <tr>\n",
       "      <th>2275</th>\n",
       "      <td>1349</td>\n",
       "      <td>FLORENTINA DIAZ</td>\n",
       "      <td>12</td>\n",
       "      <td>0</td>\n",
       "      <td>0</td>\n",
       "      <td>61</td>\n",
       "      <td>surf</td>\n",
       "      <td>13039.91</td>\n",
       "      <td>13</td>\n",
       "      <td>20</td>\n",
       "      <td>15</td>\n",
       "      <td>15360</td>\n",
       "      <td>500</td>\n",
       "      <td>50</td>\n",
       "      <td>10</td>\n",
       "      <td>0.03</td>\n",
       "      <td>0.03</td>\n",
       "    </tr>\n",
       "    <tr>\n",
       "      <th>2276</th>\n",
       "      <td>1361</td>\n",
       "      <td>JACELYN HOFFMAN</td>\n",
       "      <td>5</td>\n",
       "      <td>0</td>\n",
       "      <td>0</td>\n",
       "      <td>2</td>\n",
       "      <td>surf</td>\n",
       "      <td>1519.69</td>\n",
       "      <td>2</td>\n",
       "      <td>20</td>\n",
       "      <td>15</td>\n",
       "      <td>15360</td>\n",
       "      <td>500</td>\n",
       "      <td>50</td>\n",
       "      <td>10</td>\n",
       "      <td>0.03</td>\n",
       "      <td>0.03</td>\n",
       "    </tr>\n",
       "  </tbody>\n",
       "</table>\n",
       "<p>2277 rows × 17 columns</p>\n",
       "</div>"
      ],
      "text/plain": [
       "     user_id        user_name  month  calls  minutes_used  messages      plan  \\\n",
       "0       1000   ANAMARIA BAUER     12     16           124        11  ultimate   \n",
       "1       1006  JESUSA BRADFORD     11      2            10        15  ultimate   \n",
       "2       1006  JESUSA BRADFORD     12      9            59       139  ultimate   \n",
       "3       1008    EMELY HOFFMAN     10     71           476        21  ultimate   \n",
       "4       1008    EMELY HOFFMAN     11     63           446        37  ultimate   \n",
       "...      ...              ...    ...    ...           ...       ...       ...   \n",
       "2272    1194    ROBERT MCLEAN     12      0             0        56      surf   \n",
       "2273    1349  FLORENTINA DIAZ     10      0             0        76      surf   \n",
       "2274    1349  FLORENTINA DIAZ     11      0             0        72      surf   \n",
       "2275    1349  FLORENTINA DIAZ     12      0             0        61      surf   \n",
       "2276    1361  JACELYN HOFFMAN      5      0             0         2      surf   \n",
       "\n",
       "       mb_used  data_in_gb  usd_monthly_pay  gb_per_month_included  \\\n",
       "0      1901.47           2               70                     30   \n",
       "1      2068.37           3               70                     30   \n",
       "2     32118.82          32               70                     30   \n",
       "3     17106.99          17               70                     30   \n",
       "4     23676.72          24               70                     30   \n",
       "...        ...         ...              ...                    ...   \n",
       "2272  31088.49          31               20                     15   \n",
       "2273  13093.55          13               20                     15   \n",
       "2274  17128.26          17               20                     15   \n",
       "2275  13039.91          13               20                     15   \n",
       "2276   1519.69           2               20                     15   \n",
       "\n",
       "      mb_per_month_included  minutes_included  messages_included  usd_per_gb  \\\n",
       "0                     30720              3000               1000           7   \n",
       "1                     30720              3000               1000           7   \n",
       "2                     30720              3000               1000           7   \n",
       "3                     30720              3000               1000           7   \n",
       "4                     30720              3000               1000           7   \n",
       "...                     ...               ...                ...         ...   \n",
       "2272                  15360               500                 50          10   \n",
       "2273                  15360               500                 50          10   \n",
       "2274                  15360               500                 50          10   \n",
       "2275                  15360               500                 50          10   \n",
       "2276                  15360               500                 50          10   \n",
       "\n",
       "      usd_per_minute  usd_per_message  \n",
       "0               0.01             0.01  \n",
       "1               0.01             0.01  \n",
       "2               0.01             0.01  \n",
       "3               0.01             0.01  \n",
       "4               0.01             0.01  \n",
       "...              ...              ...  \n",
       "2272            0.03             0.03  \n",
       "2273            0.03             0.03  \n",
       "2274            0.03             0.03  \n",
       "2275            0.03             0.03  \n",
       "2276            0.03             0.03  \n",
       "\n",
       "[2277 rows x 17 columns]"
      ]
     },
     "execution_count": 42,
     "metadata": {},
     "output_type": "execute_result"
    }
   ],
   "source": [
    "# Añade la información de la tarifa\n",
    "\n",
    "df_income_per_client = users_merged_df.merge(df_plans, on='plan')\n",
    "df_income_per_client\n"
   ]
  },
  {
   "cell_type": "markdown",
   "metadata": {
    "id": "1IwGo4wg0q1I"
   },
   "source": [
    "[Calcula los ingresos mensuales por usuario (resta el límite del paquete gratuito del número total de llamadas, mensajes de texto y datos; multiplica el resultado por el valor del plan de llamadas; añade la tarifa mensual en función del plan de llamadas). Nota: Dadas las condiciones del plan, ¡esto podría no ser tan trivial como un par de líneas! Así que no pasa nada si dedicas algo de tiempo a ello.]"
   ]
  },
  {
   "cell_type": "code",
   "execution_count": 43,
   "metadata": {
    "colab": {
     "base_uri": "https://localhost:8080/",
     "height": 424
    },
    "id": "NbogJ2Fr7l6a",
    "outputId": "8682f586-a78d-478a-c2b3-add4f5e51a64"
   },
   "outputs": [
    {
     "data": {
      "text/html": [
       "<div>\n",
       "<style scoped>\n",
       "    .dataframe tbody tr th:only-of-type {\n",
       "        vertical-align: middle;\n",
       "    }\n",
       "\n",
       "    .dataframe tbody tr th {\n",
       "        vertical-align: top;\n",
       "    }\n",
       "\n",
       "    .dataframe thead th {\n",
       "        text-align: right;\n",
       "    }\n",
       "</style>\n",
       "<table border=\"1\" class=\"dataframe\">\n",
       "  <thead>\n",
       "    <tr style=\"text-align: right;\">\n",
       "      <th></th>\n",
       "      <th>user_id</th>\n",
       "      <th>user_name</th>\n",
       "      <th>month</th>\n",
       "      <th>plan</th>\n",
       "      <th>income</th>\n",
       "    </tr>\n",
       "  </thead>\n",
       "  <tbody>\n",
       "    <tr>\n",
       "      <th>0</th>\n",
       "      <td>1000</td>\n",
       "      <td>ANAMARIA BAUER</td>\n",
       "      <td>12</td>\n",
       "      <td>ultimate</td>\n",
       "      <td>70.00</td>\n",
       "    </tr>\n",
       "    <tr>\n",
       "      <th>1</th>\n",
       "      <td>1006</td>\n",
       "      <td>JESUSA BRADFORD</td>\n",
       "      <td>11</td>\n",
       "      <td>ultimate</td>\n",
       "      <td>70.00</td>\n",
       "    </tr>\n",
       "    <tr>\n",
       "      <th>2</th>\n",
       "      <td>1006</td>\n",
       "      <td>JESUSA BRADFORD</td>\n",
       "      <td>12</td>\n",
       "      <td>ultimate</td>\n",
       "      <td>84.00</td>\n",
       "    </tr>\n",
       "    <tr>\n",
       "      <th>3</th>\n",
       "      <td>1008</td>\n",
       "      <td>EMELY HOFFMAN</td>\n",
       "      <td>10</td>\n",
       "      <td>ultimate</td>\n",
       "      <td>70.00</td>\n",
       "    </tr>\n",
       "    <tr>\n",
       "      <th>4</th>\n",
       "      <td>1008</td>\n",
       "      <td>EMELY HOFFMAN</td>\n",
       "      <td>11</td>\n",
       "      <td>ultimate</td>\n",
       "      <td>70.00</td>\n",
       "    </tr>\n",
       "    <tr>\n",
       "      <th>...</th>\n",
       "      <td>...</td>\n",
       "      <td>...</td>\n",
       "      <td>...</td>\n",
       "      <td>...</td>\n",
       "      <td>...</td>\n",
       "    </tr>\n",
       "    <tr>\n",
       "      <th>2272</th>\n",
       "      <td>1194</td>\n",
       "      <td>ROBERT MCLEAN</td>\n",
       "      <td>12</td>\n",
       "      <td>surf</td>\n",
       "      <td>180.18</td>\n",
       "    </tr>\n",
       "    <tr>\n",
       "      <th>2273</th>\n",
       "      <td>1349</td>\n",
       "      <td>FLORENTINA DIAZ</td>\n",
       "      <td>10</td>\n",
       "      <td>surf</td>\n",
       "      <td>20.78</td>\n",
       "    </tr>\n",
       "    <tr>\n",
       "      <th>2274</th>\n",
       "      <td>1349</td>\n",
       "      <td>FLORENTINA DIAZ</td>\n",
       "      <td>11</td>\n",
       "      <td>surf</td>\n",
       "      <td>40.66</td>\n",
       "    </tr>\n",
       "    <tr>\n",
       "      <th>2275</th>\n",
       "      <td>1349</td>\n",
       "      <td>FLORENTINA DIAZ</td>\n",
       "      <td>12</td>\n",
       "      <td>surf</td>\n",
       "      <td>20.33</td>\n",
       "    </tr>\n",
       "    <tr>\n",
       "      <th>2276</th>\n",
       "      <td>1361</td>\n",
       "      <td>JACELYN HOFFMAN</td>\n",
       "      <td>5</td>\n",
       "      <td>surf</td>\n",
       "      <td>20.00</td>\n",
       "    </tr>\n",
       "  </tbody>\n",
       "</table>\n",
       "<p>2277 rows × 5 columns</p>\n",
       "</div>"
      ],
      "text/plain": [
       "     user_id        user_name  month      plan  income\n",
       "0       1000   ANAMARIA BAUER     12  ultimate   70.00\n",
       "1       1006  JESUSA BRADFORD     11  ultimate   70.00\n",
       "2       1006  JESUSA BRADFORD     12  ultimate   84.00\n",
       "3       1008    EMELY HOFFMAN     10  ultimate   70.00\n",
       "4       1008    EMELY HOFFMAN     11  ultimate   70.00\n",
       "...      ...              ...    ...       ...     ...\n",
       "2272    1194    ROBERT MCLEAN     12      surf  180.18\n",
       "2273    1349  FLORENTINA DIAZ     10      surf   20.78\n",
       "2274    1349  FLORENTINA DIAZ     11      surf   40.66\n",
       "2275    1349  FLORENTINA DIAZ     12      surf   20.33\n",
       "2276    1361  JACELYN HOFFMAN      5      surf   20.00\n",
       "\n",
       "[2277 rows x 5 columns]"
      ]
     },
     "execution_count": 43,
     "metadata": {},
     "output_type": "execute_result"
    }
   ],
   "source": [
    "# Calculo el ingreso mensual para cada usuario.\n",
    "# Creo una función para calcular los ingresos obtenidos por cada cliente, tomando en cuenta los ingresos por excedentes en los planes.\n",
    "\n",
    "def calculate_income(row):\n",
    "  # Creo la variable income para que almacene el ingreso, tomando como base el costo regular del plan.\n",
    "    income = row['usd_monthly_pay']\n",
    "\n",
    "    # Calculo los costos extra generados por llamadas, y los sumo a income.\n",
    "    if row['minutes_used'] > row['minutes_included']:\n",
    "        income += (row['minutes_used'] - row['minutes_included']) * row['usd_per_minute']\n",
    "\n",
    "    # Calculo los costos extra generados por mensajes, y los sumo a income.\n",
    "    if row['messages'] > row['messages_included']:\n",
    "        income += (row['messages'] - row['messages_included']) * row['usd_per_message']\n",
    "\n",
    "    # Calculo los costos extra generados por uso de internet, y los sumo a income.\n",
    "    if row['data_in_gb'] > row['gb_per_month_included']:\n",
    "        income += (row['data_in_gb'] - row['gb_per_month_included']) * row['usd_per_gb']\n",
    "    return income\n",
    "\n",
    "# Aplico la función al dataframe, en una nueva columna llamada \"income\":\n",
    "df_income_per_client['income'] = df_income_per_client.apply(calculate_income, axis=1)\n",
    "\n",
    "# Muestro solo las columnas que me interesan del df:\n",
    "df_income = df_income_per_client[['user_id', 'user_name', 'month', 'plan', 'income']]\n",
    "df_income\n"
   ]
  },
  {
   "cell_type": "markdown",
   "metadata": {
    "id": "m5uU2vbQnUss"
   },
   "source": [
    "<div class=\"alert alert-block alert-danger\">\n",
    "<b>Comentario del revisor (1ra Iteración)</b> <a class=“tocSkip”></a>\n",
    "    \n",
    "Juan Carlos, tu lógica para calcular el **income** es adecuada. No obstante, los valores obtenidos no son del todo correctos, debes tener en cuenta que de acuerdo con la descripción del proyecto los datos de minutos e internet (en GB) deben ser redondeados hacia arriba para hacer el cobro respectivo. Para esto puedes usar la función `np.ceil`\n",
    "\n",
    "</div>\n",
    "\n",
    "<div class=\"alert alert-block alert-info\">\n",
    "<b>Comentario del alumno (2da Iteración) </b> <a class=“tocSkip”></a>\n",
    "Una disculpa, aparentemente subí un archivo que no era el correcto.\n",
    "Hice los ajustes, afortunadamente los resultados arrojados por los datos fueron muy similares y no afectó a las conclusiones a las que llegué.\n",
    "</div>"
   ]
  },
  {
   "cell_type": "markdown",
   "metadata": {
    "id": "-jtyHzJb0q1I"
   },
   "source": [
    "## Estudia el comportamiento de usuario"
   ]
  },
  {
   "cell_type": "markdown",
   "metadata": {
    "id": "AxU3Y0N70q1J"
   },
   "source": [
    "[Calcula algunas estadísticas descriptivas para los datos agregados y fusionados que nos sean útiles y que muestren un panorama general captado por los datos. Dibuja gráficos útiles para facilitar la comprensión. Dado que la tarea principal es comparar las tarifas y decidir cuál es más rentable, las estadísticas y gráficas deben calcularse por tarifa.]\n",
    "\n",
    "[En los comentarios hallarás pistas relevantes para las llamadas, pero no las hay para los mensajes e Internet. Sin embargo, el principio del estudio estadístico que se aplica para ellos es el mismo que para las llamadas.]"
   ]
  },
  {
   "cell_type": "markdown",
   "metadata": {
    "id": "vtW4CJEe0q1J"
   },
   "source": [
    "### Llamadas"
   ]
  },
  {
   "cell_type": "code",
   "execution_count": 44,
   "metadata": {
    "colab": {
     "base_uri": "https://localhost:8080/",
     "height": 547
    },
    "id": "Jf5v5--k0q1J",
    "outputId": "0fb1db31-63a5-4cfa-a8c0-2260df5ec7a0"
   },
   "outputs": [
    {
     "data": {
      "image/png": "[encoded data removed]",
      "text/plain": [
       "<Figure size 1400x600 with 1 Axes>"
      ]
     },
     "metadata": {},
     "output_type": "display_data"
    }
   ],
   "source": [
    "# Compara la duración promedio de llamadas por cada plan y por cada mes. Traza un gráfico de barras para visualizarla.\n",
    "# Prepara el df que me servirá para la gráfica.\n",
    "import seaborn as sns\n",
    "import matplotlib.pyplot as plt\n",
    "\n",
    "df_calls[\"user_id\"] = df_calls[\"user_id\"].astype(str)\n",
    "df_users[\"user_id\"] = df_users[\"user_id\"].astype(str)\n",
    "call_duration_per_plan = df_calls.merge(df_users, on='user_id')\n",
    "call_duration_per_plan = call_duration_per_plan.merge(df_plans, on='plan')\n",
    "\n",
    "call_duration_per_plan['month'] = call_duration_per_plan['call_date'].dt.month\n",
    "calls_per_plan = call_duration_per_plan.groupby(['month','plan'])['duration'].mean()\n",
    "calls_per_plan = calls_per_plan.reset_index()\n",
    "\n",
    "meses = { 1: \"Enero\", 2: \"Febrero\", 3: \"Marzo\", 4: \"Abril\", 5: \"Mayo\", 6: \"Junio\", 7: \"Julio\",\n",
    "         8: \"Agosto\", 9: \"Septiembre\", 10: \"Octubre\", 11: \"Noviembre\", 12: \"Diciembre\"}\n",
    "\n",
    "calls_per_plan[\"months\"] = calls_per_plan[\"month\"].map(meses)\n",
    "calls_per_plan[\"months\"] = calls_per_plan[\"months\"].str.lower()\n",
    "calls_per_plan.drop(\"month\", axis=1, inplace=True)\n",
    "\n",
    "# Hago la gráfica de barras.\n",
    "plt.figure(figsize=(14, 6))\n",
    "sns.barplot(x='months', y='duration', hue='plan', data=calls_per_plan)\n",
    "\n",
    "plt.title('Los minutos por llamada son muy similares en ambos planes', fontsize=16)\n",
    "plt.xlabel('')\n",
    "plt.ylabel('Duración promedio de llamada (min)', fontsize=14)\n",
    "plt.legend(bbox_to_anchor=(.6, 1), ncol=2)\n",
    "\n",
    "plt.ylim(5, None)\n",
    "plt.show()\n",
    "\n"
   ]
  },
  {
   "cell_type": "code",
   "execution_count": 45,
   "metadata": {
    "colab": {
     "base_uri": "https://localhost:8080/",
     "height": 572
    },
    "id": "pvtLcvhWwrW7",
    "outputId": "161365d4-c170-4b43-cce9-5da075870d5c"
   },
   "outputs": [
    {
     "data": {
      "image/png": "[encoded data removed]",
      "text/plain": [
       "<Figure size 1400x600 with 1 Axes>"
      ]
     },
     "metadata": {},
     "output_type": "display_data"
    }
   ],
   "source": [
    "# Compara el número de minutos mensuales que necesitan los usuarios de cada plan. Traza un histograma.\n",
    "\n",
    "plt.figure(figsize=(14, 6))\n",
    "sns.histplot(data=df_income_per_client, x= \"minutes_used\", hue= \"plan\", bins=40, kde=True)\n",
    "\n",
    "plt.title('En ambos planes la mayoría de los usuarios hablan al rededor de 400 min al mes', fontsize=16)\n",
    "plt.xlabel('Minutos utilizados al mes', fontsize=14)\n",
    "plt.ylabel('cantidad de usuarios', fontsize=14)\n",
    "\n",
    "plt.show()\n",
    "\n",
    "\n"
   ]
  },
  {
   "cell_type": "markdown",
   "metadata": {
    "id": "bLS9T8OH0q1K"
   },
   "source": [
    "[Calcula la media y la variable de la duración de las llamadas para averiguar si los usuarios de los distintos planes se comportan de forma diferente al realizar sus llamadas.]"
   ]
  },
  {
   "cell_type": "code",
   "execution_count": 46,
   "metadata": {
    "colab": {
     "base_uri": "https://localhost:8080/"
    },
    "id": "oSndbAnt0q1K",
    "outputId": "206f9397-da15-4e38-a99d-4d1928b77b46"
   },
   "outputs": [
    {
     "name": "stdout",
     "output_type": "stream",
     "text": [
      "Media de Surf: 429.8414634146341\n",
      "Varianza de Surf: 54804.92090010495\n",
      "\n",
      "Media de Ultimate: 431.0486787204451\n",
      "Varianza de Ultimate: 57666.609047694685\n"
     ]
    }
   ],
   "source": [
    "# Calcula la media y la varianza de la duración mensual de llamadas.\n",
    "income_surf = df_income_per_client[df_income_per_client[\"plan\"] == \"surf\"]\n",
    "income_ultimate = df_income_per_client[df_income_per_client[\"plan\"] == \"ultimate\"]\n",
    "surf_mean = income_surf[\"minutes_used\"].mean()\n",
    "ultimate_mean = income_ultimate[\"minutes_used\"].mean()\n",
    "\n",
    "print(\"Media de Surf:\", surf_mean)\n",
    "print(\"Varianza de Surf:\", income_surf[\"minutes_used\"].var())\n",
    "print()\n",
    "print(\"Media de Ultimate:\", ultimate_mean)\n",
    "print(\"Varianza de Ultimate:\", income_ultimate[\"minutes_used\"].var())\n"
   ]
  },
  {
   "cell_type": "code",
   "execution_count": 47,
   "metadata": {
    "colab": {
     "base_uri": "https://localhost:8080/",
     "height": 480
    },
    "id": "nZzoRUKc0q1K",
    "outputId": "1452445b-5431-4fe5-ba6e-43b6b349c803"
   },
   "outputs": [
    {
     "data": {
      "image/png": "[encoded data removed]",
      "text/plain": [
       "<Figure size 2000x600 with 1 Axes>"
      ]
     },
     "metadata": {},
     "output_type": "display_data"
    }
   ],
   "source": [
    "# Traza un diagrama de caja para visualizar la distribución de la duración mensual de llamadas.\n",
    "\n",
    "\n",
    "plt.figure(figsize=(20, 6))\n",
    "sns.boxplot(data=df_income_per_client, x=\"minutes_used\", hue= \"plan\")\n",
    "\n",
    "plt.title('La mediana en ambos planes es similar', fontsize=16)\n",
    "plt.xlabel('Minutos utilizados al mes', fontsize=14)\n",
    "\n",
    "\n",
    "plt.show()\n"
   ]
  },
  {
   "cell_type": "markdown",
   "metadata": {
    "id": "r627zBO50q1K"
   },
   "source": [
    "El comportamiento en las llamadas, tanto en la duración como en la cantidad de minutos consumidos al mes es similar en ambos planes."
   ]
  },
  {
   "cell_type": "markdown",
   "metadata": {
    "id": "8idKy8Wh0q1L"
   },
   "source": [
    "### Mensajes"
   ]
  },
  {
   "cell_type": "code",
   "execution_count": 48,
   "metadata": {
    "colab": {
     "base_uri": "https://localhost:8080/",
     "height": 426
    },
    "id": "NXLxiTit0q1L",
    "outputId": "897f831e-c829-4a0f-8b06-93c9fb4da479"
   },
   "outputs": [
    {
     "data": {
      "text/html": [
       "<div>\n",
       "<style scoped>\n",
       "    .dataframe tbody tr th:only-of-type {\n",
       "        vertical-align: middle;\n",
       "    }\n",
       "\n",
       "    .dataframe tbody tr th {\n",
       "        vertical-align: top;\n",
       "    }\n",
       "\n",
       "    .dataframe thead th {\n",
       "        text-align: right;\n",
       "    }\n",
       "</style>\n",
       "<table border=\"1\" class=\"dataframe\">\n",
       "  <thead>\n",
       "    <tr style=\"text-align: right;\">\n",
       "      <th></th>\n",
       "      <th>month</th>\n",
       "      <th>ultimate</th>\n",
       "      <th>surf</th>\n",
       "    </tr>\n",
       "  </thead>\n",
       "  <tbody>\n",
       "    <tr>\n",
       "      <th>0</th>\n",
       "      <td>Enero</td>\n",
       "      <td>15.500000</td>\n",
       "      <td>10.500000</td>\n",
       "    </tr>\n",
       "    <tr>\n",
       "      <th>1</th>\n",
       "      <td>Febrero</td>\n",
       "      <td>21.571429</td>\n",
       "      <td>12.000000</td>\n",
       "    </tr>\n",
       "    <tr>\n",
       "      <th>2</th>\n",
       "      <td>Marzo</td>\n",
       "      <td>20.250000</td>\n",
       "      <td>15.260870</td>\n",
       "    </tr>\n",
       "    <tr>\n",
       "      <th>3</th>\n",
       "      <td>Abril</td>\n",
       "      <td>22.047619</td>\n",
       "      <td>17.632653</td>\n",
       "    </tr>\n",
       "    <tr>\n",
       "      <th>4</th>\n",
       "      <td>Mayo</td>\n",
       "      <td>32.103448</td>\n",
       "      <td>23.657895</td>\n",
       "    </tr>\n",
       "    <tr>\n",
       "      <th>5</th>\n",
       "      <td>Junio</td>\n",
       "      <td>29.340426</td>\n",
       "      <td>24.410526</td>\n",
       "    </tr>\n",
       "    <tr>\n",
       "      <th>6</th>\n",
       "      <td>Julio</td>\n",
       "      <td>32.830508</td>\n",
       "      <td>26.033333</td>\n",
       "    </tr>\n",
       "    <tr>\n",
       "      <th>7</th>\n",
       "      <td>Agosto</td>\n",
       "      <td>38.478873</td>\n",
       "      <td>28.383648</td>\n",
       "    </tr>\n",
       "    <tr>\n",
       "      <th>8</th>\n",
       "      <td>Septiembre</td>\n",
       "      <td>37.895349</td>\n",
       "      <td>30.248705</td>\n",
       "    </tr>\n",
       "    <tr>\n",
       "      <th>9</th>\n",
       "      <td>Octubre</td>\n",
       "      <td>39.800000</td>\n",
       "      <td>33.371795</td>\n",
       "    </tr>\n",
       "    <tr>\n",
       "      <th>10</th>\n",
       "      <td>Noviembre</td>\n",
       "      <td>38.606299</td>\n",
       "      <td>32.056940</td>\n",
       "    </tr>\n",
       "    <tr>\n",
       "      <th>11</th>\n",
       "      <td>Diciembre</td>\n",
       "      <td>45.006623</td>\n",
       "      <td>38.239748</td>\n",
       "    </tr>\n",
       "  </tbody>\n",
       "</table>\n",
       "</div>"
      ],
      "text/plain": [
       "         month   ultimate       surf\n",
       "0        Enero  15.500000  10.500000\n",
       "1      Febrero  21.571429  12.000000\n",
       "2        Marzo  20.250000  15.260870\n",
       "3        Abril  22.047619  17.632653\n",
       "4         Mayo  32.103448  23.657895\n",
       "5        Junio  29.340426  24.410526\n",
       "6        Julio  32.830508  26.033333\n",
       "7       Agosto  38.478873  28.383648\n",
       "8   Septiembre  37.895349  30.248705\n",
       "9      Octubre  39.800000  33.371795\n",
       "10   Noviembre  38.606299  32.056940\n",
       "11   Diciembre  45.006623  38.239748"
      ]
     },
     "execution_count": 48,
     "metadata": {},
     "output_type": "execute_result"
    }
   ],
   "source": [
    "# Comprara el número de mensajes que tienden a enviar cada mes los usuarios de cada plan\n",
    "\n",
    "df_surf = df_income_per_client[df_income_per_client[\"plan\"] == \"surf\"]\n",
    "df_ultimate = df_income_per_client[df_income_per_client[\"plan\"] == \"ultimate\"]\n",
    "\n",
    "df_surf_messages = df_surf.groupby(\"month\")[\"messages\"].mean()\n",
    "df_ultimate_messages = df_ultimate.groupby(\"month\")[\"messages\"].mean()\n",
    "\n",
    "df_surf_messages = df_surf_messages.reset_index()\n",
    "df_surf_messages[\"month\"] = df_surf_messages[\"month\"].map(meses)\n",
    "df_surf_messages.rename(columns={'messages': 'surf'}, inplace=True)\n",
    "\n",
    "df_ultimate_messages = df_ultimate_messages.reset_index()\n",
    "df_ultimate_messages[\"month\"] = df_ultimate_messages[\"month\"].map(meses)\n",
    "df_ultimate_messages.rename(columns={'messages': 'ultimate'}, inplace=True)\n",
    "\n",
    "\n",
    "mean_plan_messages = df_ultimate_messages.merge(df_surf_messages, on=\"month\")\n",
    "\n",
    "mean_plan_messages"
   ]
  },
  {
   "cell_type": "code",
   "execution_count": 49,
   "metadata": {
    "colab": {
     "base_uri": "https://localhost:8080/",
     "height": 565
    },
    "id": "0nMFteB0qpGf",
    "outputId": "b023af87-8a99-4602-da9b-75c7bfbee7ca"
   },
   "outputs": [
    {
     "data": {
      "image/png": "[encoded data removed]",
      "text/plain": [
       "<Figure size 1400x600 with 1 Axes>"
      ]
     },
     "metadata": {},
     "output_type": "display_data"
    }
   ],
   "source": [
    "mean_plan_messages.plot(x=\"month\", kind=\"bar\", figsize=(14, 6), xlabel=\" \", ylabel= \"Mensajes enviados (promedio)\", rot=0,\n",
    "                        title=\"Los usuarios de ultimate envían más mensajes al mes que los de surf\", grid=True)\n",
    "plt.show()"
   ]
  },
  {
   "cell_type": "markdown",
   "metadata": {
    "id": "390SSL480q1M"
   },
   "source": [
    "Los usuarios de Ultimate suelen utilizar más mensajes al mes respecto de los usuarios de Surf, es normal porque el plan últimate incluye más mensajes en el costo base; sin embargo en promedio ninguno de los dos esquemas supera los 50 mensajes que es lo que incluye el plan más económico (surf)."
   ]
  },
  {
   "cell_type": "markdown",
   "metadata": {
    "id": "42YSypXz0q1M"
   },
   "source": [
    "### Internet"
   ]
  },
  {
   "cell_type": "code",
   "execution_count": 50,
   "metadata": {
    "colab": {
     "base_uri": "https://localhost:8080/",
     "height": 600
    },
    "id": "GRI_R7xF0q1L",
    "outputId": "dc8954b0-37ef-468f-ae7a-007028863cd3"
   },
   "outputs": [
    {
     "name": "stdout",
     "output_type": "stream",
     "text": [
      "       plan  data_in_gb\n",
      "0      surf   16.831194\n",
      "1  ultimate   17.331015\n"
     ]
    },
    {
     "data": {
      "image/png": "[encoded data removed]",
      "text/plain": [
       "<Figure size 500x600 with 1 Axes>"
      ]
     },
     "metadata": {},
     "output_type": "display_data"
    }
   ],
   "source": [
    "# Compara la cantidad de tráfico de Internet consumido por usuarios por plan\n",
    "\n",
    "internet_per_plan = df_income_per_client.groupby(\"plan\")[\"data_in_gb\"].mean()\n",
    "internet_per_plan = internet_per_plan.reset_index()\n",
    "\n",
    "print(internet_per_plan)\n",
    "\n",
    "plt.figure(figsize=(5, 6))\n",
    "sns.barplot(x='plan', y='data_in_gb', hue='plan', data=internet_per_plan)\n",
    "\n",
    "plt.title('Los GB consumidos son muy similares en ambos planes', fontsize=14)\n",
    "plt.xlabel('')\n",
    "plt.ylabel('GB consumidos', fontsize=12)\n",
    "plt.show()\n",
    "\n"
   ]
  },
  {
   "cell_type": "markdown",
   "metadata": {
    "id": "UN9zwuMP0q1N"
   },
   "source": [
    "En promedio los usuarios de ambos esquemas utilizan una cantidad muy similar de GB al mes."
   ]
  },
  {
   "cell_type": "markdown",
   "metadata": {
    "id": "tCijq3260q1N"
   },
   "source": [
    "## Ingreso"
   ]
  },
  {
   "cell_type": "markdown",
   "metadata": {
    "id": "9nq5IAcy0q1O"
   },
   "source": [
    "[Del mismo modo que has estudiado el comportamiento de los usuarios, describe estadísticamente los ingresos de los planes.]"
   ]
  },
  {
   "cell_type": "code",
   "execution_count": 51,
   "metadata": {
    "colab": {
     "base_uri": "https://localhost:8080/",
     "height": 600
    },
    "id": "tz-dq_V00q1O",
    "outputId": "95c8bfa2-a8f2-48b8-dc3a-503b737abc35"
   },
   "outputs": [
    {
     "name": "stdout",
     "output_type": "stream",
     "text": [
      "Total de ingresos de Surf: 95159.35\n",
      "Total de ingresos de Ultimate: 51996.0\n"
     ]
    },
    {
     "data": {
      "image/png": "[encoded data removed]",
      "text/plain": [
       "<Figure size 800x600 with 1 Axes>"
      ]
     },
     "metadata": {},
     "output_type": "display_data"
    }
   ],
   "source": [
    "# Sumo los ingresos generados por ambos planes y los muestro en las siguientes gráficas:\n",
    "\n",
    "total_income_surf = income_surf['income'].sum()\n",
    "total_income_ultimate = income_ultimate['income'].sum()\n",
    "\n",
    "print(\"Total de ingresos de Surf:\", total_income_surf)\n",
    "print(\"Total de ingresos de Ultimate:\", total_income_ultimate)\n",
    "\n",
    "income_per_plan = df_income_per_client.groupby(\"plan\")[\"income\"].sum()\n",
    "income_per_plan = income_per_plan.reset_index()\n",
    "\n",
    "income_per_plan.plot(x=\"plan\", kind=\"bar\", y='income', figsize=(8, 6), xlabel=\" \", ylabel= \"Ingresos (US DLS)\", rot=0,\n",
    "                        title=\"Los ingresos por el plan Surf son superiores a Ultimate\", grid=True, color=['orange', 'blue'])\n",
    "plt.show()\n"
   ]
  },
  {
   "cell_type": "code",
   "execution_count": 52,
   "metadata": {
    "colab": {
     "base_uri": "https://localhost:8080/",
     "height": 564
    },
    "id": "0Y1v8ZUz0q1P",
    "outputId": "0c8e7c5f-9c0e-4f08-bb86-a0aec8cc0a3c"
   },
   "outputs": [
    {
     "data": {
      "image/png": "[encoded data removed]",
      "text/plain": [
       "<Figure size 1400x600 with 1 Axes>"
      ]
     },
     "metadata": {},
     "output_type": "display_data"
    }
   ],
   "source": [
    "df_surf_income = df_surf.groupby(\"month\")[\"income\"].sum()\n",
    "df_ultimate_income = df_ultimate.groupby(\"month\")[\"income\"].sum()\n",
    "\n",
    "df_surf_income = df_surf_income.reset_index()\n",
    "df_surf_income[\"month\"] = df_surf_income[\"month\"].map(meses)\n",
    "df_surf_income.rename(columns={'income': 'surf'}, inplace=True)\n",
    "\n",
    "df_ultimate_income = df_ultimate_income.reset_index()\n",
    "df_ultimate_income[\"month\"] = df_ultimate_income[\"month\"].map(meses)\n",
    "df_ultimate_income.rename(columns={'income': 'ultimate'}, inplace=True)\n",
    "\n",
    "total_plan_income = df_ultimate_income.merge(df_surf_income, on=\"month\")\n",
    "\n",
    "total_plan_income.plot(x=\"month\", kind=\"bar\", figsize=(14, 6), xlabel=\" \", ylabel= \"Ingresos (US DLS)\", rot=0,\n",
    "                        title=\"Los ingresos por el plan Surf son superiores a Ultimate\", grid=True)\n",
    "plt.show()"
   ]
  },
  {
   "cell_type": "code",
   "execution_count": 53,
   "metadata": {
    "colab": {
     "base_uri": "https://localhost:8080/"
    },
    "id": "xBc7bC5QG97-",
    "outputId": "4b7dc679-feb8-47be-a46d-eadd4ec1cdab"
   },
   "outputs": [
    {
     "name": "stdout",
     "output_type": "stream",
     "text": [
      "Hay 332 clientes en el plan Surf.\n",
      "Hay 157 clientes en el plan Ultimate.\n",
      "\n",
      "Tomando en cuenta los ingresos totales de ambos planes:\n",
      "Surf nos entrega un rendimiento promedio de 286.6245481927711 al año por cliente, mientras que\n",
      "Ultimate nos entrega un rendimiento promedio de 331.18471337579615 al año por cliente.\n"
     ]
    }
   ],
   "source": [
    "income_divided = df_income_per_client.groupby([\"plan\", \"user_id\"])[\"income\"].sum().reset_index()\n",
    "\n",
    "surf_clients = df_surf['user_id'].nunique()\n",
    "ultimate_clients = df_ultimate['user_id'].nunique()\n",
    "\n",
    "print(f\"Hay {surf_clients} clientes en el plan Surf.\")\n",
    "print(f\"Hay {ultimate_clients} clientes en el plan Ultimate.\")\n",
    "print()\n",
    "print(\"Tomando en cuenta los ingresos totales de ambos planes:\")\n",
    "print(f\"Surf nos entrega un rendimiento promedio de {total_income_surf / surf_clients} al año por cliente, mientras que\")\n",
    "print(f\"Ultimate nos entrega un rendimiento promedio de {total_income_ultimate / ultimate_clients} al año por cliente.\")"
   ]
  },
  {
   "cell_type": "markdown",
   "metadata": {
    "id": "KAFidcXZ0q1P"
   },
   "source": [
    "Surf es el plan que más ingresos produjo este año, sin embargo los datos muestran que el plan Ultimate tiene un mejor rendimiento por cliente; esto se explica porque que tenemos más del doble de clientes en Surf que en Ultimate.\n"
   ]
  },
  {
   "cell_type": "markdown",
   "metadata": {
    "id": "TfawFJK3nUsu"
   },
   "source": [
    "<div class=\"alert alert-block alert-success\">\n",
    "<b>Comentario del revisor (1ra Iteración)</b> <a class=“tocSkip”></a>\n",
    "    \n",
    "Muy buen trabajo obteniendo las gráficas, pero aún más incluyendo tus análisis.\n",
    "\n",
    "</div>"
   ]
  },
  {
   "cell_type": "markdown",
   "metadata": {
    "id": "ajJ7VKeI0q1Q"
   },
   "source": [
    "## Prueba las hipótesis estadísticas"
   ]
  },
  {
   "cell_type": "markdown",
   "metadata": {
    "id": "AdXAZ-yL0q1Q"
   },
   "source": [
    "[Prueba la hipótesis de que son diferentes los ingresos promedio procedentes de los usuarios de los planes de llamada Ultimate y Surf.]"
   ]
  },
  {
   "cell_type": "markdown",
   "metadata": {
    "id": "IQwa_hsh0q1Q"
   },
   "source": [
    "La hipótesis nula es que la media de los ingresos de ambas poblaciones estadísticas (Surf y Ultimate) son iguales; y la hipótesis alternativa es que una de ellas es superior.\n"
   ]
  },
  {
   "cell_type": "code",
   "execution_count": 54,
   "metadata": {
    "colab": {
     "base_uri": "https://localhost:8080/"
    },
    "id": "nFoPNlPq0q1R",
    "outputId": "3a86aea7-dc72-48fe-d0d0-a616c1555817"
   },
   "outputs": [
    {
     "name": "stdout",
     "output_type": "stream",
     "text": [
      "valor p:  8.433171661384525e-08\n",
      "Rechazo la hipótesis nula, los ingresos promedio son diferentes.\n",
      "\n",
      "La media de surf es 61.07788831835687 \n",
      "y la media de Ultimate es 72.31710709318497\n"
     ]
    }
   ],
   "source": [
    "# Prueba las hipótesis\n",
    "\n",
    "income_surf_per_client = df_surf[\"income\"]\n",
    "income_ultimate_per_client = df_ultimate[\"income\"]\n",
    "\n",
    "alpha = 0.05\n",
    "\n",
    "results = st.ttest_ind(income_surf_per_client, income_ultimate_per_client)\n",
    "print('valor p: ', results.pvalue)\n",
    "\n",
    "if results.pvalue < alpha:\n",
    "    print(\"Rechazo la hipótesis nula, los ingresos promedio son diferentes.\")\n",
    "else:\n",
    "    print(\"No rechazo la hipótesis nula\")\n",
    "print()\n",
    "print(f\"La media de surf es {income_surf_per_client.mean()} \\ny la media de Ultimate es {income_ultimate_per_client.mean()}\")"
   ]
  },
  {
   "cell_type": "markdown",
   "metadata": {
    "id": "tCcAruM60q1R"
   },
   "source": [
    "[Prueba la hipótesis de que el ingreso promedio de los usuarios del área NY-NJ es diferente al de los usuarios de otras regiones.]"
   ]
  },
  {
   "cell_type": "markdown",
   "metadata": {
    "id": "LsBgitqj0q1R"
   },
   "source": [
    "[Elabora las hipótesis nula y alternativa, escoge la prueba estadística, determina el valor alfa.]"
   ]
  },
  {
   "cell_type": "markdown",
   "metadata": {
    "id": "Q7dE1zmlrEE6"
   },
   "source": [
    "La hipótesis nula es que el promedio de los ingresos generados por los usuarios del área de NY-NJ es igual o muy similar al ingreso del resto de las demás áreas; la hipótesis alternativa es que son diferentes."
   ]
  },
  {
   "cell_type": "code",
   "execution_count": 55,
   "metadata": {
    "colab": {
     "base_uri": "https://localhost:8080/"
    },
    "id": "Cqcj7wrZ0q1S",
    "outputId": "70dabf5e-8e52-426d-984b-99881037b78e"
   },
   "outputs": [
    {
     "name": "stdout",
     "output_type": "stream",
     "text": [
      "valor p:  0.03134450958626738\n",
      "Rechazo la hipótesis nula, los ingresos promedio son diferentes.\n",
      "\n",
      "La media de ingresos de NY-NJ es 59.894547872340425 \n",
      "y la media de ingresos de otros lugares es 65.56286165176223\n"
     ]
    }
   ],
   "source": [
    "# Prueba las hipótesis\n",
    "\n",
    "locations = df_users[[\"user_id\",\"city\"]]\n",
    "locations = locations.merge(df_income_per_client, on=\"user_id\")\n",
    "\n",
    "ny_nj = locations[locations['city'].str.contains(\"NY-NJ\")]\n",
    "other_regions = locations[~locations['city'].str.contains(\"NY-NJ\")]\n",
    "\n",
    "# pruebo hipótesis nula, con un umbral del 5%:\n",
    "\n",
    "income_ny_nj = ny_nj[\"income\"]\n",
    "income_other_regions = other_regions[\"income\"]\n",
    "\n",
    "alpha = 0.05\n",
    "\n",
    "prueba = st.ttest_ind(income_ny_nj, income_other_regions)\n",
    "print('valor p: ', prueba.pvalue)\n",
    "\n",
    "if prueba.pvalue < alpha:\n",
    "    print(\"Rechazo la hipótesis nula, los ingresos promedio son diferentes.\")\n",
    "else:\n",
    "    print(\"No rechazo la hipótesis nula\")\n",
    "print()\n",
    "print(f\"La media de ingresos de NY-NJ es {income_ny_nj.mean()} \\ny la media de ingresos de otros lugares es {income_other_regions.mean()}\")\n",
    "\n"
   ]
  },
  {
   "cell_type": "markdown",
   "metadata": {
    "id": "sNZ-vzJLnUsu"
   },
   "source": [
    "<div class=\"alert alert-block alert-success\">\n",
    "<b>Comentario del revisor (1ra Iteración)</b> <a class=“tocSkip”></a>\n",
    "    \n",
    "Excelente Juan Carlos\n",
    "\n",
    "</div>"
   ]
  },
  {
   "cell_type": "markdown",
   "metadata": {
    "id": "bbTR8UQO0q1T"
   },
   "source": [
    "## Conclusión general\n",
    "\n",
    "[En esta sección final, enumera tus conclusiones importantes. Asegúrate de que estas abarquen todas las decisiones (suposiciones) importantes que adoptaste y que determinaron la forma elegida para procesar y analizar los datos.]"
   ]
  },
  {
   "cell_type": "markdown",
   "metadata": {
    "id": "7dW20mCUy8yt"
   },
   "source": [
    "Surf es el plan que más ingresos nos otorga, pero los datos demuestran que el plan Ultimate genera más ingresos por cliente, sería bueno dedicar esfuerzos para en conseguir más clientes para Ultimate o para lograr que algunos de nuestros clientes de Surf se cambien al otro esquema.\n",
    "\n",
    "Los datos arrojan que el comportamiento de los usuarios en ambos esquemas de pago es similar, es por ello que convendría que algunos usuarios de Surf pasen a Ultimate.\n",
    "\n",
    "La región NY-NJ tiene un ingreso promedio inferior que el promedio del resto de regiones."
   ]
  },
  {
   "cell_type": "markdown",
   "metadata": {
    "id": "myutGHN_nUsu"
   },
   "source": [
    "<div class=\"alert alert-block alert-success\">\n",
    "<b>Comentario del revisor (1ra Iteración)</b> <a class=“tocSkip”></a>\n",
    "    \n",
    "\n",
    "Buena conclusión\n",
    "    \n",
    "</div>"
   ]
  },
  {
   "cell_type": "markdown",
   "metadata": {
    "id": "bhqy9QHOnUsv"
   },
   "source": [
    "-----"
   ]
  },
  {
   "cell_type": "markdown",
   "metadata": {
    "id": "3PlYRNaTnUsv"
   },
   "source": [
    "<div class=\"alert alert-block alert-warning\">\n",
    "<b>Comentario General del revisor (1ra Iteración)</b> <a class=“tocSkip”></a>\n",
    "    \n",
    "    \n",
    "Juan Carlos, tu desempeño en este proyecto ha sido realmente impresionante, especialmente en lo que respecta a tu análisis exploratorio de datos, que fue excelente. Tu dominio de las técnicas de visualización de datos y pruebas de hipótesis es notable, demostrando una sólida comprensión de estos aspectos cruciales en el análisis de datos. Es particularmente sobresaliente que hayas incluido análisis en cada sección, lo cual añade un valor significativo a tu trabajo y muestra tu capacidad para extraer insights relevantes. En cuanto al cálculo del \"income\" para cada usuario, tu lógica es acertada, aunque te sugiero hacer un pequeño ajuste para redondear las cifras de llamadas e internet, lo cual mejorará la precisión de tus resultados. Este detalle, una vez refinado, complementará perfectamente la calidad general de tu proyecto. Estaré pendiente de tu próxima interación 👀\n",
    "\n",
    "\n",
    "</div>"
   ]
  }
 ],
 "metadata": {
  "ExecuteTimeLog": [
   {
    "duration": 828,
    "start_time": "2021-11-16T09:21:11.304Z"
   },
   {
    "duration": 893,
    "start_time": "2021-11-16T09:21:17.728Z"
   },
   {
    "duration": 1150,
    "start_time": "2021-11-16T09:21:29.568Z"
   },
   {
    "duration": 3,
    "start_time": "2021-11-16T09:24:14.495Z"
   },
   {
    "duration": 120,
    "start_time": "2021-11-16T09:24:46.630Z"
   },
   {
    "duration": 3,
    "start_time": "2021-11-16T09:28:27.882Z"
   },
   {
    "duration": 4,
    "start_time": "2021-11-16T09:29:54.281Z"
   },
   {
    "duration": 3,
    "start_time": "2021-11-16T09:30:45.936Z"
   },
   {
    "duration": 4,
    "start_time": "2021-11-16T09:31:06.300Z"
   },
   {
    "duration": 113,
    "start_time": "2021-11-16T09:31:37.208Z"
   },
   {
    "duration": 143,
    "start_time": "2021-11-16T09:31:48.656Z"
   },
   {
    "duration": 98,
    "start_time": "2021-11-16T09:31:55.678Z"
   },
   {
    "duration": 3,
    "start_time": "2021-11-16T09:32:08.535Z"
   },
   {
    "duration": 111,
    "start_time": "2021-11-16T09:32:10.120Z"
   },
   {
    "duration": 3,
    "start_time": "2021-11-16T09:32:15.732Z"
   },
   {
    "duration": 4,
    "start_time": "2021-11-16T09:32:29.423Z"
   },
   {
    "duration": 3,
    "start_time": "2021-11-16T10:03:03.074Z"
   },
   {
    "duration": 3,
    "start_time": "2021-11-16T10:10:01.288Z"
   },
   {
    "duration": 3,
    "start_time": "2021-11-16T10:10:46.923Z"
   },
   {
    "duration": 121,
    "start_time": "2021-11-16T10:37:46.494Z"
   },
   {
    "duration": 125,
    "start_time": "2021-11-16T10:38:20.632Z"
   },
   {
    "duration": 112,
    "start_time": "2021-11-16T10:46:53.001Z"
   },
   {
    "duration": 110,
    "start_time": "2021-11-16T10:48:25.775Z"
   },
   {
    "duration": 3,
    "start_time": "2021-11-16T10:50:18.720Z"
   },
   {
    "duration": 4,
    "start_time": "2021-11-16T10:50:37.649Z"
   },
   {
    "duration": 2,
    "start_time": "2021-11-16T10:50:51.884Z"
   },
   {
    "duration": 3,
    "start_time": "2021-11-16T10:51:56.237Z"
   },
   {
    "duration": 101,
    "start_time": "2021-11-16T10:53:13.791Z"
   },
   {
    "duration": 3,
    "start_time": "2021-11-16T10:55:59.186Z"
   },
   {
    "duration": 3,
    "start_time": "2021-11-16T10:56:10.751Z"
   },
   {
    "duration": 3,
    "start_time": "2021-11-16T10:56:49.038Z"
   },
   {
    "duration": 3,
    "start_time": "2021-11-16T10:56:49.174Z"
   },
   {
    "duration": 4,
    "start_time": "2021-11-16T10:56:49.414Z"
   },
   {
    "duration": 3,
    "start_time": "2021-11-16T10:56:49.680Z"
   },
   {
    "duration": 3,
    "start_time": "2021-11-16T10:56:50.370Z"
   },
   {
    "duration": 114,
    "start_time": "2021-11-16T10:59:34.518Z"
   },
   {
    "duration": 3,
    "start_time": "2021-11-16T11:01:41.201Z"
   },
   {
    "duration": 116,
    "start_time": "2021-11-16T11:01:48.754Z"
   },
   {
    "duration": 3,
    "start_time": "2021-11-16T11:02:16.685Z"
   },
   {
    "duration": 3,
    "start_time": "2021-11-16T11:02:19.479Z"
   },
   {
    "duration": 3,
    "start_time": "2021-11-16T11:02:47.067Z"
   },
   {
    "duration": 3,
    "start_time": "2021-11-16T11:02:49.353Z"
   },
   {
    "duration": 3,
    "start_time": "2021-11-16T11:03:07.835Z"
   },
   {
    "duration": 3,
    "start_time": "2021-11-16T11:03:07.953Z"
   },
   {
    "duration": 112,
    "start_time": "2021-11-16T11:07:52.072Z"
   },
   {
    "duration": 187,
    "start_time": "2021-11-16T11:09:23.468Z"
   },
   {
    "duration": 4,
    "start_time": "2021-11-16T11:10:01.455Z"
   },
   {
    "duration": 3,
    "start_time": "2021-11-16T11:10:05.069Z"
   },
   {
    "duration": 4,
    "start_time": "2021-11-16T11:10:13.376Z"
   },
   {
    "duration": 3,
    "start_time": "2021-11-16T11:10:14.434Z"
   },
   {
    "duration": 3,
    "start_time": "2021-11-16T11:10:22.853Z"
   },
   {
    "duration": 4,
    "start_time": "2021-11-16T11:27:29.279Z"
   },
   {
    "duration": 4,
    "start_time": "2021-11-16T11:29:08.919Z"
   },
   {
    "duration": 118,
    "start_time": "2021-11-16T11:29:46.703Z"
   },
   {
    "duration": 437,
    "start_time": "2021-11-16T11:36:02.181Z"
   },
   {
    "duration": 157,
    "start_time": "2021-11-16T11:36:14.388Z"
   },
   {
    "duration": 207,
    "start_time": "2021-11-16T11:47:15.898Z"
   },
   {
    "duration": 3,
    "start_time": "2021-11-16T11:53:52.092Z"
   },
   {
    "duration": 3,
    "start_time": "2021-11-16T11:53:52.236Z"
   },
   {
    "duration": 3,
    "start_time": "2021-11-16T11:59:12.005Z"
   },
   {
    "duration": 112,
    "start_time": "2021-11-16T12:00:33.446Z"
   },
   {
    "duration": 3,
    "start_time": "2021-11-16T12:02:14.453Z"
   },
   {
    "duration": 3,
    "start_time": "2021-11-16T12:02:39.512Z"
   },
   {
    "duration": 106,
    "start_time": "2021-11-16T12:03:03.460Z"
   },
   {
    "duration": 3,
    "start_time": "2021-11-17T20:37:21.139Z"
   },
   {
    "duration": 3,
    "start_time": "2021-11-17T20:37:22.229Z"
   },
   {
    "duration": 3,
    "start_time": "2021-11-17T20:38:38.806Z"
   },
   {
    "duration": 3,
    "start_time": "2021-11-17T20:38:41.958Z"
   },
   {
    "duration": 3,
    "start_time": "2021-11-17T20:43:46.551Z"
   },
   {
    "duration": 4,
    "start_time": "2021-11-17T20:58:21.835Z"
   },
   {
    "duration": 3,
    "start_time": "2021-11-17T20:59:21.872Z"
   },
   {
    "duration": 4,
    "start_time": "2021-11-17T20:59:45.352Z"
   },
   {
    "duration": 4,
    "start_time": "2021-11-17T20:59:49.646Z"
   },
   {
    "duration": 159,
    "start_time": "2021-11-17T21:02:26.949Z"
   },
   {
    "duration": 3,
    "start_time": "2021-11-17T21:03:53.461Z"
   },
   {
    "duration": 3,
    "start_time": "2021-11-17T21:03:53.694Z"
   },
   {
    "duration": 3,
    "start_time": "2021-11-17T21:05:28.145Z"
   },
   {
    "duration": 116,
    "start_time": "2021-11-17T21:05:57.787Z"
   },
   {
    "duration": 3,
    "start_time": "2021-11-17T21:06:37.993Z"
   },
   {
    "duration": 3,
    "start_time": "2021-11-17T21:06:38.261Z"
   },
   {
    "duration": 3,
    "start_time": "2021-11-17T21:11:54.358Z"
   },
   {
    "duration": 3,
    "start_time": "2021-11-17T21:12:43.846Z"
   },
   {
    "duration": 4,
    "start_time": "2021-11-17T21:13:08.773Z"
   },
   {
    "duration": 3,
    "start_time": "2021-11-17T21:14:44.441Z"
   },
   {
    "duration": 3,
    "start_time": "2021-11-17T21:15:42.059Z"
   },
   {
    "duration": 4,
    "start_time": "2021-11-17T21:15:51.995Z"
   },
   {
    "duration": 3,
    "start_time": "2021-11-17T21:15:53.923Z"
   },
   {
    "duration": 3,
    "start_time": "2021-11-17T21:15:55.282Z"
   },
   {
    "duration": 3,
    "start_time": "2021-11-17T21:16:28.492Z"
   },
   {
    "duration": 3,
    "start_time": "2021-11-17T21:16:32.603Z"
   },
   {
    "duration": 3,
    "start_time": "2021-11-17T21:17:06.941Z"
   },
   {
    "duration": 98,
    "start_time": "2021-11-17T21:18:05.733Z"
   },
   {
    "duration": 4,
    "start_time": "2021-11-17T21:21:35.255Z"
   },
   {
    "duration": 3,
    "start_time": "2021-11-17T21:21:37.804Z"
   },
   {
    "duration": 4,
    "start_time": "2021-11-17T21:23:06.071Z"
   },
   {
    "duration": 3,
    "start_time": "2021-11-17T21:23:24.799Z"
   },
   {
    "duration": 3,
    "start_time": "2021-11-17T21:23:32.591Z"
   },
   {
    "duration": 98,
    "start_time": "2021-11-17T21:28:31.559Z"
   },
   {
    "duration": 3,
    "start_time": "2021-11-17T21:28:45.448Z"
   },
   {
    "duration": 3,
    "start_time": "2021-11-17T21:29:17.303Z"
   },
   {
    "duration": 3,
    "start_time": "2021-11-17T21:29:29.617Z"
   },
   {
    "duration": 3,
    "start_time": "2021-11-17T21:29:32.681Z"
   },
   {
    "duration": 3,
    "start_time": "2021-11-17T21:36:11.474Z"
   },
   {
    "duration": 3,
    "start_time": "2021-11-17T21:36:14.791Z"
   },
   {
    "duration": 3,
    "start_time": "2021-11-17T21:36:53.943Z"
   },
   {
    "duration": 3,
    "start_time": "2021-11-17T21:36:56.165Z"
   },
   {
    "duration": 4,
    "start_time": "2021-11-17T21:37:16.590Z"
   },
   {
    "duration": 3,
    "start_time": "2021-11-17T21:37:22.702Z"
   },
   {
    "duration": 4,
    "start_time": "2021-11-17T21:38:03.479Z"
   },
   {
    "duration": 3,
    "start_time": "2021-11-17T21:38:08.601Z"
   },
   {
    "duration": 3,
    "start_time": "2021-11-17T21:38:12.928Z"
   },
   {
    "duration": 3,
    "start_time": "2021-11-17T21:38:48.896Z"
   },
   {
    "duration": 2,
    "start_time": "2021-11-17T21:38:49.171Z"
   },
   {
    "duration": 4,
    "start_time": "2021-11-17T21:39:57.889Z"
   },
   {
    "duration": 3,
    "start_time": "2021-11-17T21:39:58.057Z"
   },
   {
    "duration": 3,
    "start_time": "2021-11-17T21:41:20.108Z"
   },
   {
    "duration": 3,
    "start_time": "2021-11-17T21:41:20.629Z"
   },
   {
    "duration": 3,
    "start_time": "2021-11-17T21:42:49.136Z"
   },
   {
    "duration": 3,
    "start_time": "2021-11-17T21:43:15.137Z"
   },
   {
    "duration": 4,
    "start_time": "2021-11-17T21:43:16.766Z"
   },
   {
    "duration": 4,
    "start_time": "2021-11-17T21:43:31.711Z"
   },
   {
    "duration": 3,
    "start_time": "2021-11-17T21:43:36.312Z"
   },
   {
    "duration": 4,
    "start_time": "2021-11-17T21:45:08.825Z"
   },
   {
    "duration": 4,
    "start_time": "2021-11-17T21:45:10.119Z"
   },
   {
    "duration": 4,
    "start_time": "2021-11-17T21:45:13.748Z"
   },
   {
    "duration": 3,
    "start_time": "2021-11-17T21:45:22.219Z"
   },
   {
    "duration": 3,
    "start_time": "2021-11-17T21:45:33.412Z"
   },
   {
    "duration": 2,
    "start_time": "2021-11-17T21:46:01.885Z"
   },
   {
    "duration": 3,
    "start_time": "2021-11-17T21:46:03.628Z"
   },
   {
    "duration": 107,
    "start_time": "2021-11-17T21:47:32.512Z"
   },
   {
    "duration": 103,
    "start_time": "2021-11-17T21:50:36.243Z"
   },
   {
    "duration": 3,
    "start_time": "2021-11-18T06:28:31.440Z"
   },
   {
    "duration": 3,
    "start_time": "2021-11-18T06:29:00.168Z"
   },
   {
    "duration": 3,
    "start_time": "2021-11-18T06:31:27.008Z"
   },
   {
    "duration": 2,
    "start_time": "2021-11-18T06:35:34.288Z"
   },
   {
    "duration": 2,
    "start_time": "2021-11-18T06:38:04.527Z"
   },
   {
    "duration": 8,
    "start_time": "2024-10-14T03:28:55.979Z"
   },
   {
    "duration": 3,
    "start_time": "2024-10-14T03:30:08.785Z"
   },
   {
    "duration": 4,
    "start_time": "2024-10-14T03:31:33.393Z"
   },
   {
    "duration": 814,
    "start_time": "2024-10-15T02:27:30.355Z"
   },
   {
    "duration": 0,
    "start_time": "2024-10-15T02:27:31.171Z"
   },
   {
    "duration": 0,
    "start_time": "2024-10-15T02:27:31.172Z"
   },
   {
    "duration": 0,
    "start_time": "2024-10-15T02:27:31.173Z"
   },
   {
    "duration": 0,
    "start_time": "2024-10-15T02:27:31.174Z"
   },
   {
    "duration": 0,
    "start_time": "2024-10-15T02:27:31.175Z"
   },
   {
    "duration": 0,
    "start_time": "2024-10-15T02:27:31.177Z"
   },
   {
    "duration": 0,
    "start_time": "2024-10-15T02:27:31.186Z"
   },
   {
    "duration": 0,
    "start_time": "2024-10-15T02:27:31.188Z"
   },
   {
    "duration": 0,
    "start_time": "2024-10-15T02:27:31.189Z"
   },
   {
    "duration": 0,
    "start_time": "2024-10-15T02:27:31.191Z"
   },
   {
    "duration": 0,
    "start_time": "2024-10-15T02:27:31.192Z"
   },
   {
    "duration": 0,
    "start_time": "2024-10-15T02:27:31.194Z"
   },
   {
    "duration": 0,
    "start_time": "2024-10-15T02:27:31.195Z"
   },
   {
    "duration": 0,
    "start_time": "2024-10-15T02:27:31.196Z"
   },
   {
    "duration": 0,
    "start_time": "2024-10-15T02:27:31.197Z"
   },
   {
    "duration": 0,
    "start_time": "2024-10-15T02:27:31.198Z"
   },
   {
    "duration": 0,
    "start_time": "2024-10-15T02:27:31.199Z"
   },
   {
    "duration": 0,
    "start_time": "2024-10-15T02:27:31.200Z"
   },
   {
    "duration": 0,
    "start_time": "2024-10-15T02:27:31.201Z"
   },
   {
    "duration": 0,
    "start_time": "2024-10-15T02:27:31.202Z"
   },
   {
    "duration": 0,
    "start_time": "2024-10-15T02:27:31.204Z"
   },
   {
    "duration": 0,
    "start_time": "2024-10-15T02:27:31.205Z"
   },
   {
    "duration": 0,
    "start_time": "2024-10-15T02:27:31.206Z"
   },
   {
    "duration": 0,
    "start_time": "2024-10-15T02:27:31.207Z"
   },
   {
    "duration": 0,
    "start_time": "2024-10-15T02:27:31.208Z"
   },
   {
    "duration": 0,
    "start_time": "2024-10-15T02:27:31.209Z"
   },
   {
    "duration": 0,
    "start_time": "2024-10-15T02:27:31.210Z"
   },
   {
    "duration": 0,
    "start_time": "2024-10-15T02:27:31.212Z"
   },
   {
    "duration": 0,
    "start_time": "2024-10-15T02:27:31.213Z"
   },
   {
    "duration": 0,
    "start_time": "2024-10-15T02:27:31.214Z"
   },
   {
    "duration": 0,
    "start_time": "2024-10-15T02:27:31.215Z"
   },
   {
    "duration": 0,
    "start_time": "2024-10-15T02:27:31.216Z"
   },
   {
    "duration": 0,
    "start_time": "2024-10-15T02:27:31.217Z"
   },
   {
    "duration": 0,
    "start_time": "2024-10-15T02:27:31.217Z"
   },
   {
    "duration": 13,
    "start_time": "2024-10-15T02:27:46.306Z"
   },
   {
    "duration": 2,
    "start_time": "2024-10-15T02:29:58.372Z"
   },
   {
    "duration": 269,
    "start_time": "2024-10-15T02:32:07.687Z"
   },
   {
    "duration": 224,
    "start_time": "2024-10-15T02:32:12.150Z"
   },
   {
    "duration": 18,
    "start_time": "2024-10-15T02:32:17.206Z"
   },
   {
    "duration": 17,
    "start_time": "2024-10-15T02:32:23.064Z"
   },
   {
    "duration": 2,
    "start_time": "2024-10-15T02:32:34.390Z"
   },
   {
    "duration": 208,
    "start_time": "2024-10-15T02:32:34.394Z"
   },
   {
    "duration": 12,
    "start_time": "2024-10-15T02:32:34.604Z"
   },
   {
    "duration": 21,
    "start_time": "2024-10-15T02:32:39.888Z"
   },
   {
    "duration": 3,
    "start_time": "2024-10-15T02:32:52.027Z"
   },
   {
    "duration": 211,
    "start_time": "2024-10-15T02:32:52.032Z"
   },
   {
    "duration": 13,
    "start_time": "2024-10-15T02:32:52.245Z"
   },
   {
    "duration": 11,
    "start_time": "2024-10-15T02:32:52.260Z"
   },
   {
    "duration": 29,
    "start_time": "2024-10-15T02:32:52.273Z"
   },
   {
    "duration": 22,
    "start_time": "2024-10-15T02:33:01.258Z"
   },
   {
    "duration": 406,
    "start_time": "2024-10-15T02:33:01.282Z"
   },
   {
    "duration": 0,
    "start_time": "2024-10-15T02:33:01.691Z"
   },
   {
    "duration": 0,
    "start_time": "2024-10-15T02:33:01.692Z"
   },
   {
    "duration": 0,
    "start_time": "2024-10-15T02:33:01.693Z"
   },
   {
    "duration": 0,
    "start_time": "2024-10-15T02:33:01.694Z"
   },
   {
    "duration": 0,
    "start_time": "2024-10-15T02:33:01.696Z"
   },
   {
    "duration": 0,
    "start_time": "2024-10-15T02:33:01.697Z"
   },
   {
    "duration": 0,
    "start_time": "2024-10-15T02:33:01.698Z"
   },
   {
    "duration": 0,
    "start_time": "2024-10-15T02:33:01.699Z"
   },
   {
    "duration": 0,
    "start_time": "2024-10-15T02:33:01.699Z"
   },
   {
    "duration": 0,
    "start_time": "2024-10-15T02:33:01.700Z"
   },
   {
    "duration": 0,
    "start_time": "2024-10-15T02:33:01.701Z"
   },
   {
    "duration": 0,
    "start_time": "2024-10-15T02:33:01.702Z"
   },
   {
    "duration": 0,
    "start_time": "2024-10-15T02:33:01.703Z"
   },
   {
    "duration": 0,
    "start_time": "2024-10-15T02:33:01.704Z"
   },
   {
    "duration": 0,
    "start_time": "2024-10-15T02:33:01.704Z"
   },
   {
    "duration": 0,
    "start_time": "2024-10-15T02:33:01.705Z"
   },
   {
    "duration": 0,
    "start_time": "2024-10-15T02:33:01.706Z"
   },
   {
    "duration": 0,
    "start_time": "2024-10-15T02:33:01.707Z"
   },
   {
    "duration": 0,
    "start_time": "2024-10-15T02:33:01.709Z"
   },
   {
    "duration": 0,
    "start_time": "2024-10-15T02:33:01.710Z"
   },
   {
    "duration": 0,
    "start_time": "2024-10-15T02:33:01.713Z"
   },
   {
    "duration": 0,
    "start_time": "2024-10-15T02:33:01.714Z"
   },
   {
    "duration": 0,
    "start_time": "2024-10-15T02:33:01.716Z"
   },
   {
    "duration": 0,
    "start_time": "2024-10-15T02:33:01.716Z"
   },
   {
    "duration": 0,
    "start_time": "2024-10-15T02:33:01.718Z"
   },
   {
    "duration": 0,
    "start_time": "2024-10-15T02:33:01.719Z"
   },
   {
    "duration": 0,
    "start_time": "2024-10-15T02:33:01.720Z"
   },
   {
    "duration": 0,
    "start_time": "2024-10-15T02:33:01.723Z"
   },
   {
    "duration": 0,
    "start_time": "2024-10-15T02:33:01.724Z"
   },
   {
    "duration": 40,
    "start_time": "2024-10-15T02:33:42.799Z"
   },
   {
    "duration": 151,
    "start_time": "2024-10-15T02:35:08.599Z"
   },
   {
    "duration": 3,
    "start_time": "2024-10-15T02:35:15.116Z"
   },
   {
    "duration": 164,
    "start_time": "2024-10-15T02:35:15.121Z"
   },
   {
    "duration": 13,
    "start_time": "2024-10-15T02:35:15.287Z"
   },
   {
    "duration": 10,
    "start_time": "2024-10-15T02:35:15.302Z"
   },
   {
    "duration": 13,
    "start_time": "2024-10-15T02:35:15.314Z"
   },
   {
    "duration": 11,
    "start_time": "2024-10-15T02:35:15.329Z"
   },
   {
    "duration": 45,
    "start_time": "2024-10-15T02:35:15.342Z"
   },
   {
    "duration": 11,
    "start_time": "2024-10-15T02:35:15.389Z"
   },
   {
    "duration": 21,
    "start_time": "2024-10-15T02:35:15.402Z"
   },
   {
    "duration": 127,
    "start_time": "2024-10-15T02:35:15.424Z"
   },
   {
    "duration": 16,
    "start_time": "2024-10-15T02:35:15.553Z"
   },
   {
    "duration": 58,
    "start_time": "2024-10-15T02:35:15.586Z"
   },
   {
    "duration": 19,
    "start_time": "2024-10-15T02:35:15.646Z"
   },
   {
    "duration": 40,
    "start_time": "2024-10-15T02:35:15.686Z"
   },
   {
    "duration": 9,
    "start_time": "2024-10-15T02:35:15.728Z"
   },
   {
    "duration": 87,
    "start_time": "2024-10-15T02:35:15.738Z"
   },
   {
    "duration": 29,
    "start_time": "2024-10-15T02:35:15.827Z"
   },
   {
    "duration": 52,
    "start_time": "2024-10-15T02:35:15.858Z"
   },
   {
    "duration": 53,
    "start_time": "2024-10-15T02:35:15.911Z"
   },
   {
    "duration": 40,
    "start_time": "2024-10-15T02:35:15.966Z"
   },
   {
    "duration": 7,
    "start_time": "2024-10-15T02:35:16.008Z"
   },
   {
    "duration": 23,
    "start_time": "2024-10-15T02:35:16.017Z"
   },
   {
    "duration": 84,
    "start_time": "2024-10-15T02:35:16.043Z"
   },
   {
    "duration": 2274,
    "start_time": "2024-10-15T02:35:16.129Z"
   },
   {
    "duration": 421,
    "start_time": "2024-10-15T02:35:18.406Z"
   },
   {
    "duration": 6,
    "start_time": "2024-10-15T02:35:18.829Z"
   },
   {
    "duration": 125,
    "start_time": "2024-10-15T02:35:18.837Z"
   },
   {
    "duration": 24,
    "start_time": "2024-10-15T02:35:18.963Z"
   },
   {
    "duration": 197,
    "start_time": "2024-10-15T02:35:18.989Z"
   },
   {
    "duration": 144,
    "start_time": "2024-10-15T02:35:19.188Z"
   },
   {
    "duration": 124,
    "start_time": "2024-10-15T02:35:19.334Z"
   },
   {
    "duration": 196,
    "start_time": "2024-10-15T02:35:19.461Z"
   },
   {
    "duration": 9,
    "start_time": "2024-10-15T02:35:19.660Z"
   },
   {
    "duration": 4,
    "start_time": "2024-10-15T02:35:19.671Z"
   },
   {
    "duration": 12,
    "start_time": "2024-10-15T02:35:19.687Z"
   },
   {
    "duration": 2,
    "start_time": "2024-10-15T02:48:15.393Z"
   },
   {
    "duration": 36,
    "start_time": "2024-10-15T02:48:42.977Z"
   },
   {
    "duration": 5,
    "start_time": "2024-10-15T02:50:36.628Z"
   }
  ],
  "colab": {
   "collapsed_sections": [
    "4ysWWC5i0q00",
    "69qqoJ3r0q01",
    "1n2X6WXf0q04"
   ],
   "provenance": []
  },
  "kernelspec": {
   "display_name": "Python 3 (ipykernel)",
   "language": "python",
   "name": "python3"
  },
  "language_info": {
   "codemirror_mode": {
    "name": "ipython",
    "version": 3
   },
   "file_extension": ".py",
   "mimetype": "text/x-python",
   "name": "python",
   "nbconvert_exporter": "python",
   "pygments_lexer": "ipython3",
   "version": "3.9.19"
  },
  "toc": {
   "base_numbering": 1,
   "nav_menu": {},
   "number_sections": true,
   "sideBar": true,
   "skip_h1_title": false,
   "title_cell": "Table of Contents",
   "title_sidebar": "Contents",
   "toc_cell": false,
   "toc_position": {},
   "toc_section_display": true,
   "toc_window_display": false
  }
 },
 "nbformat": 4,
 "nbformat_minor": 1
}
